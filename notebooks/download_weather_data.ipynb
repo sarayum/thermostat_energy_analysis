{
 "cells": [
  {
   "cell_type": "markdown",
   "id": "95f68407",
   "metadata": {},
   "source": [
    "To Download Weather data for analysis in JSON format"
   ]
  },
  {
   "cell_type": "code",
   "execution_count": 8,
   "id": "b21d7a90",
   "metadata": {},
   "outputs": [],
   "source": [
    "import pandas as pd\n",
    "import requests\n",
    "import json\n",
    "import os\n"
   ]
  },
  {
   "cell_type": "markdown",
   "id": "e18e32cb",
   "metadata": {},
   "source": [
    "Used [Open-Meteo Historical API](https://open-meteo.com/) to download hourly weather data for Mason, Ohio, covering the period from **May 1, 2024 to June 30, 2025**. The weather parameters include:\n",
    "\n",
    "- `temperature_2m`: Air temperature at 2 meters (in °C)\n",
    "- `relative_humidity_2m`: Relative humidity at 2 meters (%)\n",
    "- `windspeed_10m`: Wind speed at 10 meters (km/h)\n",
    "\n",
    "We send a GET request to the API and save the JSON response as `weather_data_raw.json` inside the `data/raw/` folder for further processing."
   ]
  },
  {
   "cell_type": "code",
   "execution_count": null,
   "id": "9d2af8b2",
   "metadata": {},
   "outputs": [
    {
     "name": "stdout",
     "output_type": "stream",
     "text": [
      "Current Working Directory: /Volumes/Seagate/CodeU/Python/Data_analytics/thermostat_energy_analysis/notebooks\n",
      "Weather data downloaded and saved.\n"
     ]
    }
   ],
   "source": [
    "# Set save path\n",
    "raw_dir = \"../data/raw\"\n",
    "os.makedirs(raw_dir, exist_ok=True)\n",
    "weather_json_path = os.path.join(raw_dir, \"weather_data_raw.json\")\n",
    "#print(\"Current Working Directory:\", os.getcwd())\n",
    "\n",
    "# API request\n",
    "params = {\n",
    "    \"latitude\": 39.3601,\n",
    "    \"longitude\": -84.3099,\n",
    "    \"start_date\": \"2024-05-01\",\n",
    "    \"end_date\": \"2025-06-30\",\n",
    "    \"hourly\": \"temperature_2m,relative_humidity_2m,windspeed_10m\",\n",
    "    \"timezone\": \"America/New_York\"\n",
    "}\n",
    "url = \"https://archive-api.open-meteo.com/v1/archive\"\n",
    "\n",
    "response = requests.get(url, params=params)\n",
    "response.raise_for_status()\n",
    "\n",
    "# Save to JSON\n",
    "with open(weather_json_path, \"w\") as f:\n",
    "    json.dump(response.json(), f)\n",
    "\n",
    "print(\"Weather data downloaded and saved.\")"
   ]
  }
 ],
 "metadata": {
  "kernelspec": {
   "display_name": ".venv",
   "language": "python",
   "name": "python3"
  },
  "language_info": {
   "codemirror_mode": {
    "name": "ipython",
    "version": 3
   },
   "file_extension": ".py",
   "mimetype": "text/x-python",
   "name": "python",
   "nbconvert_exporter": "python",
   "pygments_lexer": "ipython3",
   "version": "3.13.2"
  }
 },
 "nbformat": 4,
 "nbformat_minor": 5
}
