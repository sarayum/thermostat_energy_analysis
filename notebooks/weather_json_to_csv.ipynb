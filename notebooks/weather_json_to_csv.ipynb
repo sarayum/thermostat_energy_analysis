{
 "cells": [
  {
   "cell_type": "markdown",
   "id": "616052f9",
   "metadata": {},
   "source": [
    "Convert Weather Data from JSON to CSV"
   ]
  },
  {
   "cell_type": "code",
   "execution_count": 1,
   "id": "7d41248f",
   "metadata": {},
   "outputs": [],
   "source": [
    "import pandas as pd\n",
    "import json\n",
    "import os"
   ]
  },
  {
   "cell_type": "markdown",
   "id": "fdde4b3b",
   "metadata": {},
   "source": [
    "Convert the downloaded Open-Meteo JSON file (`weather_data_raw.json`) into a CSV file.  the raw `hourly` weather data is saved as-is in `data/raw/weather_data_hourly.csv`."
   ]
  },
  {
   "cell_type": "code",
   "execution_count": 2,
   "id": "98a0c39f",
   "metadata": {},
   "outputs": [
    {
     "name": "stdout",
     "output_type": "stream",
     "text": [
      "Converted JSON to CSV and saved to: ../data/raw/weather_data_hourly.csv\n"
     ]
    }
   ],
   "source": [
    "# Define folders and paths\n",
    "raw_dir = \"../data/raw\"\n",
    "os.makedirs(raw_dir, exist_ok=True)\n",
    "\n",
    "weather_json_path = os.path.join(raw_dir, \"weather_data_raw.json\")\n",
    "weather_csv_path = os.path.join(raw_dir, \"weather_data_hourly.csv\")\n",
    "\n",
    "# Load raw weather JSON\n",
    "with open(weather_json_path) as f:\n",
    "    weather_json = json.load(f)\n",
    "\n",
    "# Extract hourly section as-is\n",
    "weather_df = pd.DataFrame(weather_json['hourly'])\n",
    "\n",
    "# Save to CSV in raw folder\n",
    "weather_df.to_csv(weather_csv_path, index=False, float_format=\"%.2f\")\n",
    "print(f\"Converted JSON to CSV and saved to: {weather_csv_path}\")"
   ]
  }
 ],
 "metadata": {
  "kernelspec": {
   "display_name": ".venv",
   "language": "python",
   "name": "python3"
  },
  "language_info": {
   "codemirror_mode": {
    "name": "ipython",
    "version": 3
   },
   "file_extension": ".py",
   "mimetype": "text/x-python",
   "name": "python",
   "nbconvert_exporter": "python",
   "pygments_lexer": "ipython3",
   "version": "3.13.2"
  }
 },
 "nbformat": 4,
 "nbformat_minor": 5
}
