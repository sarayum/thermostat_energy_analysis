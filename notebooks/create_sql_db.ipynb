{
 "cells": [
  {
   "cell_type": "code",
   "execution_count": 1,
   "id": "46242a7a",
   "metadata": {},
   "outputs": [],
   "source": [
    "import pandas as pd\n",
    "import sqlite3"
   ]
  },
  {
   "cell_type": "code",
   "execution_count": null,
   "id": "3e41dbb5",
   "metadata": {},
   "outputs": [],
   "source": [
    "# Read the final cleaned CSVs\n",
    "thermostat_hourly_df_sql = pd.read_csv(\"../data/processed/thermostat_hourly_custom.csv\")\n",
    "weather_df_sql = pd.read_csv(\"../data/processed/weather_data_cleaned_final.csv\")"
   ]
  },
  {
   "cell_type": "code",
   "execution_count": 4,
   "id": "d58cbff2",
   "metadata": {},
   "outputs": [],
   "source": [
    "\n",
    "# Define SQLite database path (automatically create if doesn't exist)\n",
    "db_path = \"../database/thermostat_analysis.db\"\n",
    "\n",
    "# Connect to SQLite database\n",
    "conn = sqlite3.connect(db_path)\n",
    "\n",
    "# Create cursor to execute SQL commands\n",
    "cursor = conn.cursor()"
   ]
  },
  {
   "cell_type": "markdown",
   "id": "4fc2263a",
   "metadata": {},
   "source": [
    "### Create Weather table with Primary Key"
   ]
  },
  {
   "cell_type": "code",
   "execution_count": null,
   "id": "55bb5240",
   "metadata": {},
   "outputs": [],
   "source": [
    "# Ensure timestamp is datetime\n",
    "weather_df_sql['timestamp'] = pd.to_datetime(weather_df_sql['timestamp'])"
   ]
  },
  {
   "cell_type": "code",
   "execution_count": null,
   "id": "6c2e5ae4",
   "metadata": {},
   "outputs": [],
   "source": [
    "# Convert timestamp to string (required for TEXT PRIMARY KEY)\n",
    "weather_df_sql['timestamp'] = weather_df_sql['timestamp'].astype(str)\n"
   ]
  },
  {
   "cell_type": "code",
   "execution_count": null,
   "id": "bf97bb84",
   "metadata": {},
   "outputs": [
    {
     "data": {
      "text/plain": [
       "<sqlite3.Cursor at 0x11e05e740>"
      ]
     },
     "execution_count": 50,
     "metadata": {},
     "output_type": "execute_result"
    }
   ],
   "source": [
    "# Create weather_data table\n",
    "\n",
    "cursor.execute('''\n",
    "CREATE TABLE IF NOT EXISTS weather_data_final (\n",
    "    timestamp TEXT PRIMARY KEY,\n",
    "    outdoor_humidity INTEGER,\n",
    "    wind_speed_kmh REAL,\n",
    "    outdoor_temp_f REAL\n",
    ")\n",
    "''')"
   ]
  },
  {
   "cell_type": "code",
   "execution_count": null,
   "id": "e86ae874",
   "metadata": {},
   "outputs": [
    {
     "data": {
      "text/plain": [
       "10224"
      ]
     },
     "execution_count": 51,
     "metadata": {},
     "output_type": "execute_result"
    }
   ],
   "source": [
    "# Insert DataFrame into the table\n",
    "weather_df_sql.to_sql('weather_data_final', conn, if_exists='replace', index=False)"
   ]
  },
  {
   "cell_type": "markdown",
   "id": "16a4203d",
   "metadata": {},
   "source": [
    "### Create Thermostat hourly data table with Primary Key"
   ]
  },
  {
   "cell_type": "code",
   "execution_count": 5,
   "id": "fb6d09f3",
   "metadata": {},
   "outputs": [],
   "source": [
    "# Ensure timestamp is datetime\n",
    "thermostat_hourly_df_sql['timestamp'] = pd.to_datetime(thermostat_hourly_df_sql['timestamp'])"
   ]
  },
  {
   "cell_type": "code",
   "execution_count": 6,
   "id": "fffb2609",
   "metadata": {},
   "outputs": [],
   "source": [
    "# Convert timestamp to string (required for TEXT PRIMARY KEY)\n",
    "thermostat_hourly_df_sql['timestamp'] = thermostat_hourly_df_sql['timestamp'].astype(str)"
   ]
  },
  {
   "cell_type": "code",
   "execution_count": 7,
   "id": "324db75f",
   "metadata": {},
   "outputs": [
    {
     "data": {
      "text/plain": [
       "<sqlite3.Cursor at 0x11ac77b40>"
      ]
     },
     "execution_count": 7,
     "metadata": {},
     "output_type": "execute_result"
    }
   ],
   "source": [
    "# Create thermostat_data_hourly table\n",
    "cursor.execute('''\n",
    "CREATE TABLE IF NOT EXISTS thermostat_data_hourly (\n",
    "    timestamp TEXT PRIMARY KEY,\n",
    "    system_mode TEXT,\n",
    "    program_mode TEXT,\n",
    "    cool_set_temp_f REAL,\n",
    "    heat_set_temp_f REAL,\n",
    "    current_temp_f REAL,\n",
    "    current_humidity_rh REAL,\n",
    "    fan_sec REAL,\n",
    "    fan_runtime_category TEXT\n",
    ")\n",
    "''')"
   ]
  },
  {
   "cell_type": "code",
   "execution_count": 8,
   "id": "f6899aad",
   "metadata": {},
   "outputs": [
    {
     "data": {
      "text/plain": [
       "10224"
      ]
     },
     "execution_count": 8,
     "metadata": {},
     "output_type": "execute_result"
    }
   ],
   "source": [
    "# Insert DataFrame into the table\n",
    "thermostat_hourly_df_sql.to_sql('thermostat_data_hourly', conn, if_exists='replace', index=False)"
   ]
  },
  {
   "cell_type": "code",
   "execution_count": 9,
   "id": "6f784aac",
   "metadata": {},
   "outputs": [
    {
     "name": "stdout",
     "output_type": "stream",
     "text": [
      "                     name\n",
      "0            weather_data\n",
      "1      weather_data_final\n",
      "2   thermostat_data_final\n",
      "3  thermostat_data_hourly\n"
     ]
    }
   ],
   "source": [
    "# Check if tables exist in the db\n",
    "\n",
    "tables = pd.read_sql(\"SELECT name FROM sqlite_master WHERE type='table';\", conn)\n",
    "print(tables)"
   ]
  },
  {
   "cell_type": "code",
   "execution_count": null,
   "id": "bab0447d",
   "metadata": {},
   "outputs": [
    {
     "name": "stdout",
     "output_type": "stream",
     "text": [
      "             timestamp  outdoor_humidity  wind_speed_kmh  outdoor_temp_f\n",
      "0  2024-05-01 00:00:00                75             6.1           58.46\n",
      "1  2024-05-01 01:00:00                80             5.5           56.30\n",
      "2  2024-05-01 02:00:00                83             4.8           55.04\n",
      "3  2024-05-01 03:00:00                86             7.4           54.14\n",
      "4  2024-05-01 04:00:00                88             9.3           54.14\n"
     ]
    }
   ],
   "source": [
    "# Confirm Data was Inserted\n",
    "# Quick query to check contents in the table\n",
    "result = pd.read_sql(\"SELECT * FROM weather_data_final LIMIT 5;\", conn)\n",
    "print(result)"
   ]
  },
  {
   "cell_type": "code",
   "execution_count": 11,
   "id": "54d340c5",
   "metadata": {},
   "outputs": [
    {
     "name": "stdout",
     "output_type": "stream",
     "text": [
      "             timestamp  current_temp_f  cool_set_temp_f  heat_set_temp_f  \\\n",
      "0  2024-05-01 00:00:00           72.88             74.5             69.5   \n",
      "1  2024-05-01 01:00:00           72.43             74.5             69.5   \n",
      "2  2024-05-01 02:00:00           72.05             74.5             69.5   \n",
      "3  2024-05-01 03:00:00           71.59             74.5             69.5   \n",
      "4  2024-05-01 04:00:00           71.17             74.5             69.5   \n",
      "\n",
      "   current_humidity_rh  fan_sec        system_mode program_mode  \\\n",
      "0                 57.0   3300.0  compressorcooloff        sleep   \n",
      "1                 57.0   3300.0  compressorcooloff        sleep   \n",
      "2                 57.0   3300.0  compressorcooloff        sleep   \n",
      "3                 57.0   3300.0  compressorcooloff        sleep   \n",
      "4                 57.0   3300.0  compressorcooloff        sleep   \n",
      "\n",
      "  fan_runtime_category  \n",
      "0                 High  \n",
      "1                 High  \n",
      "2                 High  \n",
      "3                 High  \n",
      "4                 High  \n"
     ]
    }
   ],
   "source": [
    "# Confirm Data was Inserted\n",
    "# Quick query to check contents in the table\n",
    "result = pd.read_sql(\"SELECT * FROM thermostat_data_hourly LIMIT 5;\", conn)\n",
    "print(result)"
   ]
  },
  {
   "cell_type": "code",
   "execution_count": null,
   "id": "ccf8d954",
   "metadata": {},
   "outputs": [
    {
     "name": "stdout",
     "output_type": "stream",
     "text": [
      "   cid              name     type  notnull dflt_value  pk\n",
      "0    0         timestamp     TEXT        0       None   0\n",
      "1    1  outdoor_humidity  INTEGER        0       None   0\n",
      "2    2    wind_speed_kmh     REAL        0       None   0\n",
      "3    3    outdoor_temp_f     REAL        0       None   0\n"
     ]
    }
   ],
   "source": [
    "# Run PRAGMA to get schema details\n",
    "schema_df = pd.read_sql(\"PRAGMA table_info(weather_data_final);\", conn)\n",
    "\n",
    "#Show schema\n",
    "print(schema_df)"
   ]
  },
  {
   "cell_type": "code",
   "execution_count": 12,
   "id": "01445b3b",
   "metadata": {},
   "outputs": [
    {
     "name": "stdout",
     "output_type": "stream",
     "text": [
      "   cid                  name  type  notnull dflt_value  pk\n",
      "0    0             timestamp  TEXT        0       None   0\n",
      "1    1        current_temp_f  REAL        0       None   0\n",
      "2    2       cool_set_temp_f  REAL        0       None   0\n",
      "3    3       heat_set_temp_f  REAL        0       None   0\n",
      "4    4   current_humidity_rh  REAL        0       None   0\n",
      "5    5               fan_sec  REAL        0       None   0\n",
      "6    6           system_mode  TEXT        0       None   0\n",
      "7    7          program_mode  TEXT        0       None   0\n",
      "8    8  fan_runtime_category  TEXT        0       None   0\n"
     ]
    }
   ],
   "source": [
    "# Run PRAGMA to get schema details\n",
    "schema_df = pd.read_sql(\"PRAGMA table_info(thermostat_data_hourly);\", conn)\n",
    "\n",
    "#Show schema\n",
    "print(schema_df)"
   ]
  },
  {
   "cell_type": "code",
   "execution_count": 13,
   "id": "971fb5fc",
   "metadata": {},
   "outputs": [],
   "source": [
    "# Commit the transaction and close the connection\n",
    "\n",
    "conn.commit()\n",
    "conn.close()"
   ]
  }
 ],
 "metadata": {
  "kernelspec": {
   "display_name": ".venv",
   "language": "python",
   "name": "python3"
  },
  "language_info": {
   "codemirror_mode": {
    "name": "ipython",
    "version": 3
   },
   "file_extension": ".py",
   "mimetype": "text/x-python",
   "name": "python",
   "nbconvert_exporter": "python",
   "pygments_lexer": "ipython3",
   "version": "3.13.2"
  }
 },
 "nbformat": 4,
 "nbformat_minor": 5
}
