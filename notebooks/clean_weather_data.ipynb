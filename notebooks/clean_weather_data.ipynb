{
 "cells": [
  {
   "cell_type": "markdown",
   "id": "f6348c0e",
   "metadata": {},
   "source": [
    "Clean the raw weather data"
   ]
  },
  {
   "cell_type": "code",
   "execution_count": 83,
   "id": "ff376c94",
   "metadata": {},
   "outputs": [],
   "source": [
    "import pandas as pd\n",
    "import os\n",
    "import sys\n",
    "sys.path.append('../scripts') #Add scripts folder to path\n",
    "\n",
    "from utilities import (\n",
    "    profile_dataframe_overview,\n",
    "    summary_stats,\n",
    "    check_constant_columns,\n",
    "    check_empty_columns\n",
    ")"
   ]
  },
  {
   "cell_type": "markdown",
   "id": "5a3e1091",
   "metadata": {},
   "source": [
    "cleaning the raw weather data previously saved as a CSV for data processing. \n",
    "\n",
    "- Converting the `time` column into a proper `timestamp`\n",
    "- Dropping the original `time` column\n",
    "- Removing duplicate or fully empty rows\n",
    "- Reordering columns for consistency\n",
    "\n",
    "The cleaned weather data is saved in `data/processed/weather_data_cleaned.csv` and will be ready for merging with thermostat data."
   ]
  },
  {
   "cell_type": "code",
   "execution_count": 84,
   "id": "82a4d4a9",
   "metadata": {},
   "outputs": [],
   "source": [
    "# Define input/output paths\n",
    "raw_path = \"../data/raw/weather_data_hourly.csv\"\n",
    "processed_dir = \"../data/processed\"\n",
    "os.makedirs(processed_dir, exist_ok=True)\n",
    "cleaned_path = os.path.join(processed_dir, \"weather_data_cleaned.csv\")\n",
    "\n"
   ]
  },
  {
   "cell_type": "code",
   "execution_count": 85,
   "id": "bc78b819",
   "metadata": {},
   "outputs": [],
   "source": [
    "# Load raw weather data . This dataset contains external weather parameters such as temperature, humidity, and wind speed at hourly intervals.\n",
    "\n",
    "weather_df = pd.read_csv(raw_path)\n",
    "# print(\"Current Working Directory:\", os.getcwd())\n",
    "# print(weather_df)"
   ]
  },
  {
   "cell_type": "markdown",
   "id": "820be97d",
   "metadata": {},
   "source": [
    "### profile_dataframe_overview()  BASIC OVERVIEW\n",
    "This function provides a structured overview of any DataFrame. It displays:\n",
    "\n",
    "- The number of rows and columns\n",
    "- Column names and data types\n",
    "- DataFrame info summary (including memory usage)\n",
    "- Missing values per column (as percentages)\n",
    "- Unique values per column\n",
    "- Sample preview of the first and last N rows"
   ]
  },
  {
   "cell_type": "code",
   "execution_count": 86,
   "id": "f9158531",
   "metadata": {},
   "outputs": [
    {
     "name": "stdout",
     "output_type": "stream",
     "text": [
      "\n",
      " Basic Structure\n",
      "----------------------------------------\n",
      "Rows: 10224, Columns: 4\n",
      "Column Names: ['time', 'temperature_2m', 'relative_humidity_2m', 'windspeed_10m']\n",
      "\n",
      " Data Types\n",
      "----------------------------------------\n",
      "time                     object\n",
      "temperature_2m          float64\n",
      "relative_humidity_2m      int64\n",
      "windspeed_10m           float64\n",
      "dtype: object\n",
      "\n",
      " DataFrame Summary Info\n",
      "----------------------------------------\n",
      "<class 'pandas.core.frame.DataFrame'>\n",
      "RangeIndex: 10224 entries, 0 to 10223\n",
      "Data columns (total 4 columns):\n",
      " #   Column                Non-Null Count  Dtype  \n",
      "---  ------                --------------  -----  \n",
      " 0   time                  10224 non-null  object \n",
      " 1   temperature_2m        10224 non-null  float64\n",
      " 2   relative_humidity_2m  10224 non-null  int64  \n",
      " 3   windspeed_10m         10224 non-null  float64\n",
      "dtypes: float64(2), int64(1), object(1)\n",
      "memory usage: 319.6+ KB\n",
      "\n",
      " Missing Data Overview (%)\n",
      "----------------------------------------\n",
      "No missing values.\n",
      "\n",
      " Unique Values per Column\n",
      "----------------------------------------\n",
      "time                    10224\n",
      "temperature_2m            530\n",
      "windspeed_10m             326\n",
      "relative_humidity_2m       82\n",
      "dtype: int64\n",
      "\n",
      " Preview: First 5 Rows\n",
      "----------------------------------------\n",
      "               time  temperature_2m  relative_humidity_2m  windspeed_10m\n",
      "0  2024-05-01T00:00            14.7                    75            6.1\n",
      "1  2024-05-01T01:00            13.5                    80            5.5\n",
      "2  2024-05-01T02:00            12.8                    83            4.8\n",
      "3  2024-05-01T03:00            12.3                    86            7.4\n",
      "4  2024-05-01T04:00            12.3                    88            9.3\n",
      "\n",
      " Preview: Last 5 Rows\n",
      "----------------------------------------\n",
      "                   time  temperature_2m  relative_humidity_2m  windspeed_10m\n",
      "10219  2025-06-30T19:00            26.9                    78           11.9\n",
      "10220  2025-06-30T20:00            26.4                    82            7.2\n",
      "10221  2025-06-30T21:00            25.1                    91            4.5\n",
      "10222  2025-06-30T22:00            24.8                    90            5.9\n",
      "10223  2025-06-30T23:00            24.3                    92            5.9\n"
     ]
    }
   ],
   "source": [
    "profile_dataframe_overview(weather_df)"
   ]
  },
  {
   "cell_type": "markdown",
   "id": "866f7ca1",
   "metadata": {},
   "source": [
    "### Summary_stats   DISPLAY STATS SUMMARY\n",
    "\n",
    "This function returns standard summary statistics for all numeric columns in the DataFrame:\n",
    "\n",
    "- count, mean, std\n",
    "- min, 25th percentile, median (50%), 75th percentile, max\n"
   ]
  },
  {
   "cell_type": "code",
   "execution_count": 87,
   "id": "49ad140e",
   "metadata": {},
   "outputs": [
    {
     "name": "stdout",
     "output_type": "stream",
     "text": [
      "\n",
      " Summary Statistics:\n",
      "                        count   mean    std   min   25%   50%   75%    max\n",
      "temperature_2m        10224.0  13.99  10.65 -20.3   6.4  16.3  22.1   35.6\n",
      "relative_humidity_2m  10224.0  70.88  17.32  19.0  58.0  72.0  85.0  100.0\n",
      "windspeed_10m         10224.0  11.09   5.66   0.0   7.1  10.1  14.4   55.7\n"
     ]
    }
   ],
   "source": [
    "summary_statistics = summary_stats(weather_df)\n",
    "print(summary_statistics)"
   ]
  },
  {
   "cell_type": "markdown",
   "id": "8f3cb4b9",
   "metadata": {},
   "source": [
    "### check_constant_columns\n",
    "\n",
    "This function identifies columns where all rows have the same value (e.g., a column that always says \"My Ecobee\" or 0 values).\n",
    "\n",
    "Such columns are usually not informative and can be dropped to simplify the dataset."
   ]
  },
  {
   "cell_type": "code",
   "execution_count": 88,
   "id": "8285ce62",
   "metadata": {},
   "outputs": [
    {
     "name": "stdout",
     "output_type": "stream",
     "text": [
      "\n",
      " Constant Columns: []\n",
      "\n",
      " Constant Columns: []\n"
     ]
    }
   ],
   "source": [
    "const_columns = check_constant_columns(weather_df)\n",
    "print(\"\\n Constant Columns:\", const_columns)"
   ]
  },
  {
   "cell_type": "markdown",
   "id": "ea1c9886",
   "metadata": {},
   "source": [
    "### check_empty_columns\n",
    "\n",
    "This function returns a list of columns that are completely empty (i.e., 100% null values).\n",
    "\n",
    "These columns typically be removed unless or populate them later."
   ]
  },
  {
   "cell_type": "code",
   "execution_count": 89,
   "id": "11734780",
   "metadata": {},
   "outputs": [
    {
     "name": "stdout",
     "output_type": "stream",
     "text": [
      "\n",
      " Empty Columns: []\n",
      "\n",
      " Empty Columns: []\n"
     ]
    }
   ],
   "source": [
    "empty_columns = check_empty_columns(weather_df)\n",
    "print(\"\\n Empty Columns:\", empty_columns)"
   ]
  },
  {
   "cell_type": "code",
   "execution_count": 90,
   "id": "3cd2c1f3",
   "metadata": {},
   "outputs": [],
   "source": [
    "# Drop constant and empty columns\n",
    "# weather_df.drop(columns=const_columns + empty_columns, inplace=True, errors='ignore')\n",
    "#print(\"Dataframe after constant and empty columns drop: \\n\", weather_df)"
   ]
  },
  {
   "cell_type": "code",
   "execution_count": 91,
   "id": "cf5dc3d5",
   "metadata": {},
   "outputs": [
    {
     "name": "stdout",
     "output_type": "stream",
     "text": [
      "Duplicate rows: 0\n"
     ]
    }
   ],
   "source": [
    "# Drop duplicates\n",
    "# weather_df.drop_duplicates(inplace=True)\n",
    "\n",
    "print(\"Duplicate rows:\", weather_df.duplicated().sum())"
   ]
  },
  {
   "cell_type": "markdown",
   "id": "0e52ed6f",
   "metadata": {},
   "source": [
    "### Rename Columns for Consistency\n",
    "\n",
    "To maintain consistency and ease of merging with the thermostat dataset later, renamed the columns using more descriptive and uniform names:\n",
    "\n",
    "- `time` → `timestamp`\n",
    "- `temperature_2m` → `outdoor_temp_c` \n",
    "- `relative_humidity_2m` → `outdoor_humidity`\n",
    "- `windspeed_10m` → `wind_speed_kmh`\n"
   ]
  },
  {
   "cell_type": "code",
   "execution_count": 92,
   "id": "c700204d",
   "metadata": {},
   "outputs": [
    {
     "name": "stdout",
     "output_type": "stream",
     "text": [
      "['timestamp', 'outdoor_temp_c', 'outdoor_humidity', 'wind_speed_kmh']\n"
     ]
    }
   ],
   "source": [
    "# Rename columns for consistency and clarity\n",
    "weather_df.rename(columns={\n",
    "    'time': 'timestamp',\n",
    "    'temperature_2m': 'outdoor_temp_c',  # temp in °C temporarily\n",
    "    'relative_humidity_2m': 'outdoor_humidity',\n",
    "    'windspeed_10m': 'wind_speed_kmh'\n",
    "}, inplace=True)\n",
    "\n",
    "column_names = weather_df.columns.tolist()\n",
    "print(column_names)"
   ]
  },
  {
   "cell_type": "markdown",
   "id": "20db2a7b",
   "metadata": {},
   "source": [
    "### Convert Time to Timestamp Format\n",
    "The `time` column is converted to `datetime` format and renamed as `timestamp` for compatibility with the thermostat dataset."
   ]
  },
  {
   "cell_type": "code",
   "execution_count": 93,
   "id": "7dd91d73",
   "metadata": {},
   "outputs": [
    {
     "name": "stdout",
     "output_type": "stream",
     "text": [
      "0       2024-05-01 00:00:00\n",
      "1       2024-05-01 01:00:00\n",
      "2       2024-05-01 02:00:00\n",
      "3       2024-05-01 03:00:00\n",
      "4       2024-05-01 04:00:00\n",
      "                ...        \n",
      "10219   2025-06-30 19:00:00\n",
      "10220   2025-06-30 20:00:00\n",
      "10221   2025-06-30 21:00:00\n",
      "10222   2025-06-30 22:00:00\n",
      "10223   2025-06-30 23:00:00\n",
      "Name: timestamp, Length: 10224, dtype: datetime64[ns]\n"
     ]
    }
   ],
   "source": [
    "\n",
    "# Convert 'time' to timestamp\n",
    "\n",
    "weather_df['timestamp'] = pd.to_datetime(weather_df['timestamp'])\n",
    "print(weather_df['timestamp'])"
   ]
  },
  {
   "cell_type": "markdown",
   "id": "aa9488a2",
   "metadata": {},
   "source": [
    "### Convert Temperature from Celsius to Fahrenheit\n",
    "Since the thermostat dataset reports temperatures in Fahrenheit, convert the `outdoor_temp_c` column from Celsius to Fahrenheit and rename to `outdoor_temp_f`. Then drop the `outdoor_temp_c`."
   ]
  },
  {
   "cell_type": "code",
   "execution_count": 94,
   "id": "846895bc",
   "metadata": {},
   "outputs": [
    {
     "name": "stdout",
     "output_type": "stream",
     "text": [
      "                timestamp  outdoor_humidity  wind_speed_kmh  outdoor_temp_f\n",
      "0     2024-05-01 00:00:00                75             6.1           58.46\n",
      "1     2024-05-01 01:00:00                80             5.5           56.30\n",
      "2     2024-05-01 02:00:00                83             4.8           55.04\n",
      "3     2024-05-01 03:00:00                86             7.4           54.14\n",
      "4     2024-05-01 04:00:00                88             9.3           54.14\n",
      "...                   ...               ...             ...             ...\n",
      "10219 2025-06-30 19:00:00                78            11.9           80.42\n",
      "10220 2025-06-30 20:00:00                82             7.2           79.52\n",
      "10221 2025-06-30 21:00:00                91             4.5           77.18\n",
      "10222 2025-06-30 22:00:00                90             5.9           76.64\n",
      "10223 2025-06-30 23:00:00                92             5.9           75.74\n",
      "\n",
      "[10224 rows x 4 columns]\n"
     ]
    }
   ],
   "source": [
    "#weather_df['outdoor_temp_f'] = (weather_df['outdoor_temp_c'] * 9/5) + 32\n",
    "#column_names = weather_df.columns.tolist()\n",
    "#print(column_names)\n",
    "\n",
    "#weather_df.drop(columns=['outdoor_temp_c'], inplace=True)\n",
    "#print(column_names)\n",
    "\n",
    "if 'outdoor_temp_c' in weather_df.columns:\n",
    "    weather_df['outdoor_temp_f'] = (weather_df['outdoor_temp_c'] * 9/5) + 32\n",
    "    #weather_df['outdoor_temp_f'] = weather_df['outdoor_temp_f'].round(2)\n",
    "    weather_df.drop(columns=['outdoor_temp_c'], inplace=True)\n",
    "else:\n",
    "    print(\"Column 'outdoor_temp_c' not found. Skipping temperature conversion.\")\n",
    "\n",
    "print(weather_df)"
   ]
  },
  {
   "cell_type": "markdown",
   "id": "72ee895f",
   "metadata": {},
   "source": [
    "### Reorder Columns\n",
    "Rearrange the columns to place `timestamp` as the first column (if needed), followed by the weather variables. This improves readability and aligns with the thermostat dataset."
   ]
  },
  {
   "cell_type": "code",
   "execution_count": 95,
   "id": "c85ea5c0",
   "metadata": {},
   "outputs": [],
   "source": [
    "\n",
    "# Reorder columns - timestamp first\n",
    "cols = ['timestamp'] + [col for col in weather_df.columns if col != 'timestamp']\n",
    "weather_df = weather_df[cols]"
   ]
  },
  {
   "cell_type": "markdown",
   "id": "857968fb",
   "metadata": {},
   "source": [
    "### Outlier Detection\n",
    "\n",
    "Identifying potential outliers using the Interquartile Range (IQR) method. This helps in detecting anomalous values that might distort analysis or model performance.\n",
    "\n",
    ".quantile() takes a float value between 0 and 1 to specify the desired quantile.\n",
    "Q1 = .25 * (N-1) where N is number of datapoints in the list\n",
    "Q3 = .75 * (N-1)\n",
    "interpolation:\n",
    "Q = Xi + f * (Xi+1 - Xi) \n",
    "Xi - Value at lower index\n",
    "Xi+1 - Value at the upper index\n",
    "f - fractional distance between lower and upper index (e.g 0.25, .75)"
   ]
  },
  {
   "cell_type": "code",
   "execution_count": 96,
   "id": "12c8d7ab",
   "metadata": {},
   "outputs": [
    {
     "name": "stdout",
     "output_type": "stream",
     "text": [
      "timestamp             0\n",
      "outdoor_humidity      0\n",
      "wind_speed_kmh      195\n",
      "outdoor_temp_f       22\n",
      "dtype: int64\n",
      "               timestamp  wind_speed_kmh  outdoor_temp_f\n",
      "254  2024-05-11 14:00:00            26.9           67.46\n",
      "255  2024-05-11 15:00:00            25.5           67.46\n",
      "256  2024-05-11 16:00:00            28.3           66.56\n",
      "257  2024-05-11 17:00:00            26.9           66.74\n",
      "258  2024-05-11 18:00:00            26.2           65.66\n",
      "...                  ...             ...             ...\n",
      "9160 2025-05-17 16:00:00            26.8           68.54\n",
      "9161 2025-05-17 17:00:00            27.9           69.08\n",
      "9253 2025-05-21 13:00:00            25.8           64.58\n",
      "9257 2025-05-21 17:00:00            26.6           65.30\n",
      "9258 2025-05-21 18:00:00            26.7           64.40\n",
      "\n",
      "[217 rows x 3 columns]\n"
     ]
    }
   ],
   "source": [
    "Q1 = weather_df.quantile(0.25) # Returns the value below which 25% of the data lies (Q1)\n",
    "Q3 = weather_df.quantile(0.75) # Returns the value below which 75% of the data lies (Q3)\n",
    "IQR = Q3 - Q1\n",
    "outliers = ((weather_df < (Q1 - 1.5 * IQR)) | (weather_df > (Q3 + 1.5 * IQR))) # outliers threshold\n",
    "print(outliers.sum())  # No. of outliers per column\n",
    "\n",
    "# Filtering out the outliers\n",
    "outlier_rows = weather_df[outliers.any(axis=1)]\n",
    "print(outlier_rows[['timestamp', 'wind_speed_kmh', 'outdoor_temp_f']])"
   ]
  },
  {
   "cell_type": "code",
   "execution_count": 97,
   "id": "d75d8fd8",
   "metadata": {},
   "outputs": [
    {
     "name": "stdout",
     "output_type": "stream",
     "text": [
      "0        False\n",
      "1        False\n",
      "2        False\n",
      "3        False\n",
      "4        False\n",
      "         ...  \n",
      "10219    False\n",
      "10220    False\n",
      "10221    False\n",
      "10222    False\n",
      "10223    False\n",
      "Name: temp_outlier, Length: 10224, dtype: bool\n"
     ]
    }
   ],
   "source": [
    "# Tagging the outliers to handle or visualize later \n",
    "\n",
    "weather_df['temp_outlier'] = ((weather_df['outdoor_temp_f'] < (Q1['outdoor_temp_f'] - 1.5 * IQR['outdoor_temp_f'])) |\n",
    "                               (weather_df['outdoor_temp_f'] > (Q3['outdoor_temp_f'] + 1.5 * IQR['outdoor_temp_f'])))\n",
    "\n",
    "print(weather_df['temp_outlier'])"
   ]
  },
  {
   "cell_type": "code",
   "execution_count": 98,
   "id": "787fd884",
   "metadata": {},
   "outputs": [
    {
     "name": "stdout",
     "output_type": "stream",
     "text": [
      " Cleaned weather data saved to: ../data/processed/weather_data_cleaned.csv\n"
     ]
    }
   ],
   "source": [
    "\n",
    "# Save cleaned version\n",
    "weather_df.to_csv(cleaned_path, index=False, float_format=\"%.2f\")\n",
    "print(f\" Cleaned weather data saved to: {cleaned_path}\")"
   ]
  },
  {
   "cell_type": "code",
   "execution_count": 99,
   "id": "21072843",
   "metadata": {},
   "outputs": [],
   "source": [
    "#print(weather_df.dtypes)"
   ]
  }
 ],
 "metadata": {
  "kernelspec": {
   "display_name": ".venv",
   "language": "python",
   "name": "python3"
  },
  "language_info": {
   "codemirror_mode": {
    "name": "ipython",
    "version": 3
   },
   "file_extension": ".py",
   "mimetype": "text/x-python",
   "name": "python",
   "nbconvert_exporter": "python",
   "pygments_lexer": "ipython3",
   "version": "3.13.2"
  }
 },
 "nbformat": 4,
 "nbformat_minor": 5
}
