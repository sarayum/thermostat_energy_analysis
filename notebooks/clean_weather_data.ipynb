{
 "cells": [
  {
   "cell_type": "markdown",
   "id": "f6348c0e",
   "metadata": {},
   "source": [
    "Clean the raw weather data"
   ]
  },
  {
   "cell_type": "code",
   "execution_count": null,
   "id": "ff376c94",
   "metadata": {},
   "outputs": [],
   "source": [
    "import pandas as pd\n",
    "import os\n",
    "import sys\n",
    "sys.path.append('../scripts') #Add scripts folder to path\n",
    "\n",
    "from utilities import (\n",
    "    profile_dataframe_overview,\n",
    "    summary_stats,\n",
    "    check_constant_columns,\n",
    "    check_empty_columns\n",
    ")"
   ]
  },
  {
   "cell_type": "markdown",
   "id": "5a3e1091",
   "metadata": {},
   "source": [
    "cleaning the raw weather data previously saved as a CSV for data processing. \n",
    "\n",
    "- Converting the `time` column into a proper `timestamp`\n",
    "- Dropping the original `time` column\n",
    "- Removing duplicate or fully empty rows\n",
    "- Reordering columns for consistency\n",
    "\n",
    "The cleaned weather data is saved in `data/processed/weather_data_cleaned.csv` and will be ready for merging with thermostat data."
   ]
  },
  {
   "cell_type": "code",
   "execution_count": 8,
   "id": "82a4d4a9",
   "metadata": {},
   "outputs": [],
   "source": [
    "# Define input/output paths\n",
    "raw_path = \"../data/raw/weather_data_hourly.csv\"\n",
    "processed_dir = \"../data/processed\"\n",
    "os.makedirs(processed_dir, exist_ok=True)\n",
    "cleaned_path = os.path.join(processed_dir, \"weather_data_cleaned.csv\")\n",
    "\n",
    "# Load raw weather data\n",
    "df = pd.read_csv(raw_path)\n",
    "# print(\"Current Working Directory:\", os.getcwd())\n",
    "# print(df)"
   ]
  },
  {
   "cell_type": "markdown",
   "id": "820be97d",
   "metadata": {},
   "source": [
    "### profile_dataframe_overview()  BASIC OVERVIEW\n",
    "This function provides a structured overview of any DataFrame. It displays:\n",
    "\n",
    "- The number of rows and columns\n",
    "- Column names and data types\n",
    "- DataFrame info summary (including memory usage)\n",
    "- Missing values per column (as percentages)\n",
    "- Unique values per column\n",
    "- Sample preview of the first and last N rows"
   ]
  },
  {
   "cell_type": "code",
   "execution_count": 7,
   "id": "f9158531",
   "metadata": {},
   "outputs": [
    {
     "name": "stdout",
     "output_type": "stream",
     "text": [
      "\n",
      " Basic Structure\n",
      "----------------------------------------\n",
      "Rows: 10224, Columns: 4\n",
      "Column Names: ['time', 'temperature_2m', 'relative_humidity_2m', 'windspeed_10m']\n",
      "\n",
      " Data Types\n",
      "----------------------------------------\n",
      "time                     object\n",
      "temperature_2m          float64\n",
      "relative_humidity_2m      int64\n",
      "windspeed_10m           float64\n",
      "dtype: object\n",
      "\n",
      " DataFrame Summary Info\n",
      "----------------------------------------\n",
      "<class 'pandas.core.frame.DataFrame'>\n",
      "RangeIndex: 10224 entries, 0 to 10223\n",
      "Data columns (total 4 columns):\n",
      " #   Column                Non-Null Count  Dtype  \n",
      "---  ------                --------------  -----  \n",
      " 0   time                  10224 non-null  object \n",
      " 1   temperature_2m        10224 non-null  float64\n",
      " 2   relative_humidity_2m  10224 non-null  int64  \n",
      " 3   windspeed_10m         10224 non-null  float64\n",
      "dtypes: float64(2), int64(1), object(1)\n",
      "memory usage: 319.6+ KB\n",
      "\n",
      " Missing Data Overview (%)\n",
      "----------------------------------------\n",
      "No missing values.\n",
      "\n",
      " Unique Values per Column\n",
      "----------------------------------------\n",
      "time                    10224\n",
      "temperature_2m            530\n",
      "windspeed_10m             326\n",
      "relative_humidity_2m       82\n",
      "dtype: int64\n",
      "\n",
      " Preview: First 5 Rows\n",
      "----------------------------------------\n",
      "               time  temperature_2m  relative_humidity_2m  windspeed_10m\n",
      "0  2024-05-01T00:00            14.7                    75            6.1\n",
      "1  2024-05-01T01:00            13.5                    80            5.5\n",
      "2  2024-05-01T02:00            12.8                    83            4.8\n",
      "3  2024-05-01T03:00            12.3                    86            7.4\n",
      "4  2024-05-01T04:00            12.3                    88            9.3\n",
      "\n",
      " Preview: Last 5 Rows\n",
      "----------------------------------------\n",
      "                   time  temperature_2m  relative_humidity_2m  windspeed_10m\n",
      "10219  2025-06-30T19:00            26.9                    78           11.9\n",
      "10220  2025-06-30T20:00            26.4                    82            7.2\n",
      "10221  2025-06-30T21:00            25.1                    91            4.5\n",
      "10222  2025-06-30T22:00            24.8                    90            5.9\n",
      "10223  2025-06-30T23:00            24.3                    92            5.9\n"
     ]
    }
   ],
   "source": [
    "profile_dataframe_overview(df)"
   ]
  },
  {
   "cell_type": "markdown",
   "id": "866f7ca1",
   "metadata": {},
   "source": [
    "### Summary_stats   DISPLAY STATS SUMMARY\n",
    "\n",
    "This function returns standard summary statistics for all numeric columns in the DataFrame:\n",
    "\n",
    "- count, mean, std\n",
    "- min, 25th percentile, median (50%), 75th percentile, max\n"
   ]
  },
  {
   "cell_type": "code",
   "execution_count": 9,
   "id": "49ad140e",
   "metadata": {},
   "outputs": [
    {
     "name": "stdout",
     "output_type": "stream",
     "text": [
      "\n",
      " Summary Statistics:\n",
      "                        count   mean    std   min   25%   50%   75%    max\n",
      "temperature_2m        10224.0  13.99  10.65 -20.3   6.4  16.3  22.1   35.6\n",
      "relative_humidity_2m  10224.0  70.88  17.32  19.0  58.0  72.0  85.0  100.0\n",
      "windspeed_10m         10224.0  11.09   5.66   0.0   7.1  10.1  14.4   55.7\n"
     ]
    }
   ],
   "source": [
    "summary_statistics = summary_stats(df)\n",
    "print(summary_statistics)"
   ]
  },
  {
   "cell_type": "markdown",
   "id": "8f3cb4b9",
   "metadata": {},
   "source": [
    "### check_constant_columns\n",
    "\n",
    "This function identifies columns where all rows have the same value (e.g., a column that always says \"My Ecobee\" or 0 values).\n",
    "\n",
    "Such columns are usually not informative and can be dropped to simplify the dataset."
   ]
  },
  {
   "cell_type": "code",
   "execution_count": 14,
   "id": "8285ce62",
   "metadata": {},
   "outputs": [
    {
     "name": "stdout",
     "output_type": "stream",
     "text": [
      "\n",
      " Constant Columns: []\n",
      "\n",
      " Constant Columns: []\n"
     ]
    }
   ],
   "source": [
    "const_columns = check_constant_columns(df)\n",
    "print(\"\\n Constant Columns:\", const_columns)"
   ]
  },
  {
   "cell_type": "markdown",
   "id": "ea1c9886",
   "metadata": {},
   "source": [
    "### check_empty_columns\n",
    "\n",
    "This function returns a list of columns that are completely empty (i.e., 100% null values).\n",
    "\n",
    "These columns typically be removed unless or populate them later."
   ]
  },
  {
   "cell_type": "code",
   "execution_count": 13,
   "id": "11734780",
   "metadata": {},
   "outputs": [
    {
     "name": "stdout",
     "output_type": "stream",
     "text": [
      "\n",
      " Empty Columns: []\n",
      "\n",
      " Empty Columns: []\n"
     ]
    }
   ],
   "source": [
    "empty_columns = check_empty_columns(df)\n",
    "print(\"\\n Empty Columns:\", empty_columns)"
   ]
  },
  {
   "cell_type": "code",
   "execution_count": 12,
   "id": "3cd2c1f3",
   "metadata": {},
   "outputs": [
    {
     "name": "stdout",
     "output_type": "stream",
     "text": [
      "Dataframe after constant and empty columns drop:                    time  temperature_2m  relative_humidity_2m  windspeed_10m\n",
      "0      2024-05-01T00:00            14.7                    75            6.1\n",
      "1      2024-05-01T01:00            13.5                    80            5.5\n",
      "2      2024-05-01T02:00            12.8                    83            4.8\n",
      "3      2024-05-01T03:00            12.3                    86            7.4\n",
      "4      2024-05-01T04:00            12.3                    88            9.3\n",
      "...                 ...             ...                   ...            ...\n",
      "10219  2025-06-30T19:00            26.9                    78           11.9\n",
      "10220  2025-06-30T20:00            26.4                    82            7.2\n",
      "10221  2025-06-30T21:00            25.1                    91            4.5\n",
      "10222  2025-06-30T22:00            24.8                    90            5.9\n",
      "10223  2025-06-30T23:00            24.3                    92            5.9\n",
      "\n",
      "[10224 rows x 4 columns]\n"
     ]
    }
   ],
   "source": [
    "# Drop constant and empty columns\n",
    "df.drop(columns=const_columns + empty_columns, inplace=True, errors='ignore')\n",
    "print(\"Dataframe after constant and empty columns drop:\", df)"
   ]
  },
  {
   "cell_type": "code",
   "execution_count": null,
   "id": "7dd91d73",
   "metadata": {},
   "outputs": [],
   "source": [
    "\n",
    "# Convert 'time' to timestamp\n",
    "\n",
    "if 'time' in df.columns:\n",
    "    df['timestamp'] = pd.to_datetime(df['time'])\n",
    "    df.drop(columns=['time'], inplace=True)"
   ]
  },
  {
   "cell_type": "code",
   "execution_count": null,
   "id": "c85ea5c0",
   "metadata": {},
   "outputs": [],
   "source": [
    "\n",
    "# Reorder columns - timestamp first\n",
    "cols = ['timestamp'] + [col for col in df.columns if col != 'timestamp']\n",
    "df = df[cols]"
   ]
  },
  {
   "cell_type": "code",
   "execution_count": null,
   "id": "10e1f49e",
   "metadata": {},
   "outputs": [],
   "source": [
    "# Drop duplicates or rows with all NaNs \n",
    "df.drop_duplicates(inplace=True)\n",
    "df.dropna(how='all', inplace=True)"
   ]
  },
  {
   "cell_type": "code",
   "execution_count": null,
   "id": "787fd884",
   "metadata": {},
   "outputs": [],
   "source": [
    "\n",
    "# Save cleaned version\n",
    "df.to_csv(cleaned_path, index=False)\n",
    "print(f\" Cleaned weather data saved to: {cleaned_path}\")"
   ]
  }
 ],
 "metadata": {
  "kernelspec": {
   "display_name": ".venv",
   "language": "python",
   "name": "python3"
  },
  "language_info": {
   "codemirror_mode": {
    "name": "ipython",
    "version": 3
   },
   "file_extension": ".py",
   "mimetype": "text/x-python",
   "name": "python",
   "nbconvert_exporter": "python",
   "pygments_lexer": "ipython3",
   "version": "3.13.2"
  }
 },
 "nbformat": 4,
 "nbformat_minor": 5
}
