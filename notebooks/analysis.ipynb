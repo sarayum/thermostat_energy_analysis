{
 "cells": [
  {
   "cell_type": "code",
   "execution_count": 10,
   "id": "2f1d88fd",
   "metadata": {},
   "outputs": [],
   "source": [
    "import pandas as pd\n",
    "import sqlite3\n",
    "import os\n"
   ]
  },
  {
   "cell_type": "code",
   "execution_count": null,
   "id": "7a5660ff",
   "metadata": {},
   "outputs": [
    {
     "name": "stdout",
     "output_type": "stream",
     "text": [
      "Connected to DB successfully.\n"
     ]
    }
   ],
   "source": [
    "# Check DB file is accessible and connect to db\n",
    "\n",
    "db_path = \"../database/thermostat_analysis.db\"\n",
    "\n",
    "if os.path.exists(db_path):\n",
    "    conn = sqlite3.connect(db_path)\n",
    "    print(\"Connected to DB successfully.\")\n",
    "else:\n",
    "    print(\"DB file not found. Please check the path.\")"
   ]
  },
  {
   "cell_type": "code",
   "execution_count": null,
   "id": "1dabeeaf",
   "metadata": {},
   "outputs": [
    {
     "name": "stdout",
     "output_type": "stream",
     "text": [
      "Tables: [('weather_data',), ('weather_data_final',), ('thermostat_data_final',)]\n"
     ]
    }
   ],
   "source": [
    "# To ensure if the connection is successful\n",
    "\n",
    "cursor = conn.cursor()\n",
    "cursor.execute(\"SELECT name FROM sqlite_master WHERE type='table';\")\n",
    "tables = cursor.fetchall()\n",
    "print(\"Tables:\", tables)"
   ]
  },
  {
   "cell_type": "code",
   "execution_count": 7,
   "id": "eab68064",
   "metadata": {},
   "outputs": [],
   "source": [
    "# Define SQL JOIN query\n",
    "\n",
    "query = \"\"\"\n",
    "SELECT \n",
    "    t.timestamp,\n",
    "    t.system_setting,\n",
    "    t.system_mode,\n",
    "    t.program_mode,\n",
    "    t.cool_set_temp_f,\n",
    "    t.heat_set_temp_f,\n",
    "    t.current_temp_f,\n",
    "    t.current_humidity_rh,\n",
    "    t.outdoor_temp_f,             \n",
    "    t.fan_sec,\n",
    "    t.fan_runtime_category,\n",
    "    t.date,\n",
    "    t.hour,\n",
    "    t.minute,\n",
    "    t.weekday,\n",
    "    t.month,\n",
    "    w.outdoor_temp_f AS weather_outdoor_temp_f,  \n",
    "    w.outdoor_humidity\n",
    "FROM \n",
    "    thermostat_data_final t\n",
    "JOIN \n",
    "    weather_data_final w\n",
    "ON \n",
    "    t.timestamp = w.timestamp\n",
    "ORDER BY \n",
    "    t.timestamp;\n",
    "\"\"\""
   ]
  },
  {
   "cell_type": "code",
   "execution_count": 11,
   "id": "ee1fa156",
   "metadata": {},
   "outputs": [],
   "source": [
    "# Execute the query\n",
    "\n",
    "merged_df = pd.read_sql_query(query, conn)"
   ]
  },
  {
   "cell_type": "code",
   "execution_count": 12,
   "id": "602a909c",
   "metadata": {},
   "outputs": [],
   "source": [
    "# Close the connection\n",
    "\n",
    "conn.close()"
   ]
  },
  {
   "cell_type": "code",
   "execution_count": 13,
   "id": "72c30128",
   "metadata": {},
   "outputs": [
    {
     "data": {
      "application/vnd.microsoft.datawrangler.viewer.v0+json": {
       "columns": [
        {
         "name": "index",
         "rawType": "int64",
         "type": "integer"
        },
        {
         "name": "timestamp",
         "rawType": "object",
         "type": "string"
        },
        {
         "name": "system_setting",
         "rawType": "object",
         "type": "string"
        },
        {
         "name": "system_mode",
         "rawType": "object",
         "type": "string"
        },
        {
         "name": "program_mode",
         "rawType": "object",
         "type": "string"
        },
        {
         "name": "cool_set_temp_f",
         "rawType": "float64",
         "type": "float"
        },
        {
         "name": "heat_set_temp_f",
         "rawType": "float64",
         "type": "float"
        },
        {
         "name": "current_temp_f",
         "rawType": "float64",
         "type": "float"
        },
        {
         "name": "current_humidity_rh",
         "rawType": "float64",
         "type": "float"
        },
        {
         "name": "outdoor_temp_f",
         "rawType": "float64",
         "type": "float"
        },
        {
         "name": "fan_sec",
         "rawType": "float64",
         "type": "float"
        },
        {
         "name": "fan_runtime_category",
         "rawType": "object",
         "type": "string"
        },
        {
         "name": "date",
         "rawType": "object",
         "type": "string"
        },
        {
         "name": "hour",
         "rawType": "int64",
         "type": "integer"
        },
        {
         "name": "minute",
         "rawType": "int64",
         "type": "integer"
        },
        {
         "name": "weekday",
         "rawType": "object",
         "type": "string"
        },
        {
         "name": "month",
         "rawType": "object",
         "type": "string"
        },
        {
         "name": "weather_outdoor_temp_f",
         "rawType": "float64",
         "type": "float"
        },
        {
         "name": "outdoor_humidity",
         "rawType": "int64",
         "type": "integer"
        }
       ],
       "ref": "9c2faf49-a329-437c-88ba-0af758396778",
       "rows": [
        [
         "0",
         "2024-05-01 00:00:00",
         "cool",
         "compressorcooloff",
         "sleep",
         "74.5",
         "69.5",
         "73.0",
         "57.0",
         "59.9",
         "300.0",
         "Medium",
         "2024-05-01",
         "0",
         "0",
         "Wednesday",
         "May",
         "58.46",
         "75"
        ],
        [
         "1",
         "2024-05-01 01:00:00",
         "cool",
         "compressorcooloff",
         "sleep",
         "74.5",
         "69.5",
         "72.6",
         "57.0",
         "58.1",
         "300.0",
         "Medium",
         "2024-05-01",
         "1",
         "0",
         "Wednesday",
         "May",
         "56.3",
         "80"
        ],
        [
         "2",
         "2024-05-01 02:00:00",
         "cool",
         "compressorcooloff",
         "sleep",
         "74.5",
         "69.5",
         "72.2",
         "57.0",
         "55.6",
         "300.0",
         "Medium",
         "2024-05-01",
         "2",
         "0",
         "Wednesday",
         "May",
         "55.04",
         "83"
        ],
        [
         "3",
         "2024-05-01 03:00:00",
         "cool",
         "compressorcooloff",
         "sleep",
         "74.5",
         "69.5",
         "71.8",
         "57.0",
         "53.9",
         "300.0",
         "Medium",
         "2024-05-01",
         "3",
         "0",
         "Wednesday",
         "May",
         "54.14",
         "86"
        ],
        [
         "4",
         "2024-05-01 04:00:00",
         "cool",
         "compressorcooloff",
         "sleep",
         "74.5",
         "69.5",
         "71.3",
         "57.0",
         "53.3",
         "300.0",
         "Medium",
         "2024-05-01",
         "4",
         "0",
         "Wednesday",
         "May",
         "54.14",
         "88"
        ]
       ],
       "shape": {
        "columns": 18,
        "rows": 5
       }
      },
      "text/html": [
       "<div>\n",
       "<style scoped>\n",
       "    .dataframe tbody tr th:only-of-type {\n",
       "        vertical-align: middle;\n",
       "    }\n",
       "\n",
       "    .dataframe tbody tr th {\n",
       "        vertical-align: top;\n",
       "    }\n",
       "\n",
       "    .dataframe thead th {\n",
       "        text-align: right;\n",
       "    }\n",
       "</style>\n",
       "<table border=\"1\" class=\"dataframe\">\n",
       "  <thead>\n",
       "    <tr style=\"text-align: right;\">\n",
       "      <th></th>\n",
       "      <th>timestamp</th>\n",
       "      <th>system_setting</th>\n",
       "      <th>system_mode</th>\n",
       "      <th>program_mode</th>\n",
       "      <th>cool_set_temp_f</th>\n",
       "      <th>heat_set_temp_f</th>\n",
       "      <th>current_temp_f</th>\n",
       "      <th>current_humidity_rh</th>\n",
       "      <th>outdoor_temp_f</th>\n",
       "      <th>fan_sec</th>\n",
       "      <th>fan_runtime_category</th>\n",
       "      <th>date</th>\n",
       "      <th>hour</th>\n",
       "      <th>minute</th>\n",
       "      <th>weekday</th>\n",
       "      <th>month</th>\n",
       "      <th>weather_outdoor_temp_f</th>\n",
       "      <th>outdoor_humidity</th>\n",
       "    </tr>\n",
       "  </thead>\n",
       "  <tbody>\n",
       "    <tr>\n",
       "      <th>0</th>\n",
       "      <td>2024-05-01 00:00:00</td>\n",
       "      <td>cool</td>\n",
       "      <td>compressorcooloff</td>\n",
       "      <td>sleep</td>\n",
       "      <td>74.5</td>\n",
       "      <td>69.5</td>\n",
       "      <td>73.0</td>\n",
       "      <td>57.0</td>\n",
       "      <td>59.9</td>\n",
       "      <td>300.0</td>\n",
       "      <td>Medium</td>\n",
       "      <td>2024-05-01</td>\n",
       "      <td>0</td>\n",
       "      <td>0</td>\n",
       "      <td>Wednesday</td>\n",
       "      <td>May</td>\n",
       "      <td>58.46</td>\n",
       "      <td>75</td>\n",
       "    </tr>\n",
       "    <tr>\n",
       "      <th>1</th>\n",
       "      <td>2024-05-01 01:00:00</td>\n",
       "      <td>cool</td>\n",
       "      <td>compressorcooloff</td>\n",
       "      <td>sleep</td>\n",
       "      <td>74.5</td>\n",
       "      <td>69.5</td>\n",
       "      <td>72.6</td>\n",
       "      <td>57.0</td>\n",
       "      <td>58.1</td>\n",
       "      <td>300.0</td>\n",
       "      <td>Medium</td>\n",
       "      <td>2024-05-01</td>\n",
       "      <td>1</td>\n",
       "      <td>0</td>\n",
       "      <td>Wednesday</td>\n",
       "      <td>May</td>\n",
       "      <td>56.30</td>\n",
       "      <td>80</td>\n",
       "    </tr>\n",
       "    <tr>\n",
       "      <th>2</th>\n",
       "      <td>2024-05-01 02:00:00</td>\n",
       "      <td>cool</td>\n",
       "      <td>compressorcooloff</td>\n",
       "      <td>sleep</td>\n",
       "      <td>74.5</td>\n",
       "      <td>69.5</td>\n",
       "      <td>72.2</td>\n",
       "      <td>57.0</td>\n",
       "      <td>55.6</td>\n",
       "      <td>300.0</td>\n",
       "      <td>Medium</td>\n",
       "      <td>2024-05-01</td>\n",
       "      <td>2</td>\n",
       "      <td>0</td>\n",
       "      <td>Wednesday</td>\n",
       "      <td>May</td>\n",
       "      <td>55.04</td>\n",
       "      <td>83</td>\n",
       "    </tr>\n",
       "    <tr>\n",
       "      <th>3</th>\n",
       "      <td>2024-05-01 03:00:00</td>\n",
       "      <td>cool</td>\n",
       "      <td>compressorcooloff</td>\n",
       "      <td>sleep</td>\n",
       "      <td>74.5</td>\n",
       "      <td>69.5</td>\n",
       "      <td>71.8</td>\n",
       "      <td>57.0</td>\n",
       "      <td>53.9</td>\n",
       "      <td>300.0</td>\n",
       "      <td>Medium</td>\n",
       "      <td>2024-05-01</td>\n",
       "      <td>3</td>\n",
       "      <td>0</td>\n",
       "      <td>Wednesday</td>\n",
       "      <td>May</td>\n",
       "      <td>54.14</td>\n",
       "      <td>86</td>\n",
       "    </tr>\n",
       "    <tr>\n",
       "      <th>4</th>\n",
       "      <td>2024-05-01 04:00:00</td>\n",
       "      <td>cool</td>\n",
       "      <td>compressorcooloff</td>\n",
       "      <td>sleep</td>\n",
       "      <td>74.5</td>\n",
       "      <td>69.5</td>\n",
       "      <td>71.3</td>\n",
       "      <td>57.0</td>\n",
       "      <td>53.3</td>\n",
       "      <td>300.0</td>\n",
       "      <td>Medium</td>\n",
       "      <td>2024-05-01</td>\n",
       "      <td>4</td>\n",
       "      <td>0</td>\n",
       "      <td>Wednesday</td>\n",
       "      <td>May</td>\n",
       "      <td>54.14</td>\n",
       "      <td>88</td>\n",
       "    </tr>\n",
       "  </tbody>\n",
       "</table>\n",
       "</div>"
      ],
      "text/plain": [
       "             timestamp system_setting        system_mode program_mode  \\\n",
       "0  2024-05-01 00:00:00           cool  compressorcooloff        sleep   \n",
       "1  2024-05-01 01:00:00           cool  compressorcooloff        sleep   \n",
       "2  2024-05-01 02:00:00           cool  compressorcooloff        sleep   \n",
       "3  2024-05-01 03:00:00           cool  compressorcooloff        sleep   \n",
       "4  2024-05-01 04:00:00           cool  compressorcooloff        sleep   \n",
       "\n",
       "   cool_set_temp_f  heat_set_temp_f  current_temp_f  current_humidity_rh  \\\n",
       "0             74.5             69.5            73.0                 57.0   \n",
       "1             74.5             69.5            72.6                 57.0   \n",
       "2             74.5             69.5            72.2                 57.0   \n",
       "3             74.5             69.5            71.8                 57.0   \n",
       "4             74.5             69.5            71.3                 57.0   \n",
       "\n",
       "   outdoor_temp_f  fan_sec fan_runtime_category        date  hour  minute  \\\n",
       "0            59.9    300.0               Medium  2024-05-01     0       0   \n",
       "1            58.1    300.0               Medium  2024-05-01     1       0   \n",
       "2            55.6    300.0               Medium  2024-05-01     2       0   \n",
       "3            53.9    300.0               Medium  2024-05-01     3       0   \n",
       "4            53.3    300.0               Medium  2024-05-01     4       0   \n",
       "\n",
       "     weekday month  weather_outdoor_temp_f  outdoor_humidity  \n",
       "0  Wednesday   May                   58.46                75  \n",
       "1  Wednesday   May                   56.30                80  \n",
       "2  Wednesday   May                   55.04                83  \n",
       "3  Wednesday   May                   54.14                86  \n",
       "4  Wednesday   May                   54.14                88  "
      ]
     },
     "execution_count": 13,
     "metadata": {},
     "output_type": "execute_result"
    }
   ],
   "source": [
    "# Preview the merged data\n",
    "\n",
    "merged_df.head(5)"
   ]
  },
  {
   "cell_type": "code",
   "execution_count": 15,
   "id": "87d0facc",
   "metadata": {},
   "outputs": [
    {
     "name": "stdout",
     "output_type": "stream",
     "text": [
      "Merged data saved to: ../data/processed/merged_thermostat_weather_data.csv\n"
     ]
    }
   ],
   "source": [
    "# Save the merged df to a CSV file\n",
    "\n",
    "merged_df.to_csv(\"../data/processed/merged_thermostat_weather_data.csv\", index=False)\n",
    "\n",
    "print(\"Merged data saved to: ../data/processed/merged_thermostat_weather_data.csv\")"
   ]
  },
  {
   "cell_type": "code",
   "execution_count": 16,
   "id": "de915c1d",
   "metadata": {},
   "outputs": [
    {
     "data": {
      "text/plain": [
       "dtype('O')"
      ]
     },
     "execution_count": 16,
     "metadata": {},
     "output_type": "execute_result"
    }
   ],
   "source": [
    "# Ensure timestamp is already datetime\n",
    "\n",
    "merged_df['timestamp'].dtype"
   ]
  },
  {
   "cell_type": "code",
   "execution_count": 17,
   "id": "d0dd40f1",
   "metadata": {},
   "outputs": [],
   "source": [
    "# since the dtype is String, converting it into datetime format suitable for line plots and time-based filters\n",
    "\n",
    "merged_df['timestamp'] = pd.to_datetime(merged_df['timestamp'])"
   ]
  },
  {
   "cell_type": "code",
   "execution_count": 18,
   "id": "f266cb7b",
   "metadata": {},
   "outputs": [
    {
     "data": {
      "text/plain": [
       "dtype('<M8[ns]')"
      ]
     },
     "execution_count": 18,
     "metadata": {},
     "output_type": "execute_result"
    }
   ],
   "source": [
    "merged_df['timestamp'].dtype"
   ]
  }
 ],
 "metadata": {
  "kernelspec": {
   "display_name": ".venv",
   "language": "python",
   "name": "python3"
  },
  "language_info": {
   "codemirror_mode": {
    "name": "ipython",
    "version": 3
   },
   "file_extension": ".py",
   "mimetype": "text/x-python",
   "name": "python",
   "nbconvert_exporter": "python",
   "pygments_lexer": "ipython3",
   "version": "3.13.2"
  }
 },
 "nbformat": 4,
 "nbformat_minor": 5
}
