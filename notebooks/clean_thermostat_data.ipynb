{
 "cells": [
  {
   "cell_type": "code",
   "execution_count": 40,
   "id": "a10d8898",
   "metadata": {},
   "outputs": [],
   "source": [
    "import pandas as pd\n",
    "import os\n",
    "import sqlite3\n",
    "import sys\n",
    "sys.path.append('../scripts') #Add scripts folder to path\n",
    "\n",
    "from utilities import (\n",
    "    profile_dataframe_overview,\n",
    "    summary_stats,\n",
    "    check_constant_columns,\n",
    "    check_empty_columns\n",
    ")"
   ]
  },
  {
   "cell_type": "markdown",
   "id": "bb8fc899",
   "metadata": {},
   "source": [
    "### Cleaning raw thermostat data previously saved as a CSV for data processing. \n",
    "\n",
    "- Converting the `date` and `time` column into a proper `timestamp`\n",
    "- Renaming column names for better readability and to be consistent with weather data\n",
    "- Dropping the original `date` and `time` column\n",
    "- Removing duplicate or fully empty rows on need basis \n",
    "- Fill or zero-out runtime columns\n",
    "- Reordering columns for consistency\n",
    "- Detecting Outliers and tagging them for hadling and visualizing later\n",
    "\n",
    "The cleaned weather data is saved in `data/processed/thermostat_data_cleaned.csv` and will be ready for merging with weather data."
   ]
  },
  {
   "cell_type": "code",
   "execution_count": 41,
   "id": "75016b63",
   "metadata": {},
   "outputs": [],
   "source": [
    "# Define input/output paths. Create directory if doesn't exists already\n",
    "\n",
    "raw_path = \"../data/raw/thermostat_combined.csv\"\n",
    "processed_dir = \"../data/processed\"\n",
    "os.makedirs(processed_dir, exist_ok=True)\n",
    "cleaned_path = os.path.join(processed_dir, \"thermostat_data_cleaned.csv\")\n"
   ]
  },
  {
   "cell_type": "code",
   "execution_count": 42,
   "id": "7028ad72",
   "metadata": {},
   "outputs": [],
   "source": [
    "# Load raw thermostat data . This dataset contains thermostat runtime parameters such as timestamp, indoor temperature, humidity, setpoint temperature, HVAC mode, HVAC Runtime.\n",
    "\n",
    "thermostat_df = pd.read_csv(raw_path)\n",
    "#print(\"Current Working Directory:\", os.getcwd())\n",
    "#print(thermostat_df)"
   ]
  },
  {
   "cell_type": "markdown",
   "id": "36351718",
   "metadata": {},
   "source": [
    "### BASIC OVERVIEW\n",
    "### profile_dataframe_overview() \n",
    "This function provides a structured overview of any DataFrame. It displays:\n",
    "\n",
    "- The number of rows and columns\n",
    "- Column names and data types\n",
    "- DataFrame info summary (including memory usage)\n",
    "- Missing values per column (as percentages)\n",
    "- Unique values per column\n",
    "- Sample preview of the first and last N rows"
   ]
  },
  {
   "cell_type": "code",
   "execution_count": 43,
   "id": "0f8483b2",
   "metadata": {},
   "outputs": [
    {
     "name": "stdout",
     "output_type": "stream",
     "text": [
      "\n",
      " Basic Structure\n",
      "----------------------------------------\n",
      "Rows: 122688, Columns: 21\n",
      "Column Names: ['Date', 'Time', 'System Setting', 'System Mode', 'Calendar Event', 'Program Mode', 'Cool Set Temp (F)', 'Heat Set Temp (F)', 'Current Temp (F)', 'Humidity Set Point (%RH)', 'Current Humidity (%RH)', 'Outdoor Temp (F)', 'Wind Speed (km/h)', 'Cool Stage 1 (sec)', 'Heat Stage 1 (sec)', 'Fan (sec)', 'Humidifier (sec)', 'DM Offset', 'Thermostat Temperature (F)', 'Thermostat Humidity (%RH)', 'Thermostat Motion']\n",
      "\n",
      " Data Types\n",
      "----------------------------------------\n",
      "Date                           object\n",
      "Time                           object\n",
      "System Setting                 object\n",
      "System Mode                    object\n",
      "Calendar Event                 object\n",
      "Program Mode                   object\n",
      "Cool Set Temp (F)             float64\n",
      "Heat Set Temp (F)             float64\n",
      "Current Temp (F)              float64\n",
      "Humidity Set Point (%RH)      float64\n",
      "Current Humidity (%RH)        float64\n",
      "Outdoor Temp (F)              float64\n",
      "Wind Speed (km/h)             float64\n",
      "Cool Stage 1 (sec)            float64\n",
      "Heat Stage 1 (sec)            float64\n",
      "Fan (sec)                     float64\n",
      "Humidifier (sec)              float64\n",
      "DM Offset                     float64\n",
      "Thermostat Temperature (F)    float64\n",
      "Thermostat Humidity (%RH)     float64\n",
      "Thermostat Motion             float64\n",
      "dtype: object\n",
      "\n",
      " DataFrame Summary Info\n",
      "----------------------------------------\n",
      "<class 'pandas.core.frame.DataFrame'>\n",
      "RangeIndex: 122688 entries, 0 to 122687\n",
      "Data columns (total 21 columns):\n",
      " #   Column                      Non-Null Count   Dtype  \n",
      "---  ------                      --------------   -----  \n",
      " 0   Date                        122688 non-null  object \n",
      " 1   Time                        122688 non-null  object \n",
      " 2   System Setting              122470 non-null  object \n",
      " 3   System Mode                 122470 non-null  object \n",
      " 4   Calendar Event              97233 non-null   object \n",
      " 5   Program Mode                122470 non-null  object \n",
      " 6   Cool Set Temp (F)           122470 non-null  float64\n",
      " 7   Heat Set Temp (F)           122470 non-null  float64\n",
      " 8   Current Temp (F)            122470 non-null  float64\n",
      " 9   Humidity Set Point (%RH)    122470 non-null  float64\n",
      " 10  Current Humidity (%RH)      122470 non-null  float64\n",
      " 11  Outdoor Temp (F)            122550 non-null  float64\n",
      " 12  Wind Speed (km/h)           122550 non-null  float64\n",
      " 13  Cool Stage 1 (sec)          122470 non-null  float64\n",
      " 14  Heat Stage 1 (sec)          122470 non-null  float64\n",
      " 15  Fan (sec)                   122470 non-null  float64\n",
      " 16  Humidifier (sec)            122470 non-null  float64\n",
      " 17  DM Offset                   47534 non-null   float64\n",
      " 18  Thermostat Temperature (F)  122470 non-null  float64\n",
      " 19  Thermostat Humidity (%RH)   122470 non-null  float64\n",
      " 20  Thermostat Motion           122470 non-null  float64\n",
      "dtypes: float64(15), object(6)\n",
      "memory usage: 19.7+ MB\n",
      "\n",
      " Missing Data Overview (%)\n",
      "----------------------------------------\n",
      "DM Offset                     61.26\n",
      "Calendar Event                20.75\n",
      "System Setting                 0.18\n",
      "System Mode                    0.18\n",
      "Program Mode                   0.18\n",
      "Heat Set Temp (F)              0.18\n",
      "Cool Set Temp (F)              0.18\n",
      "Humidity Set Point (%RH)       0.18\n",
      "Current Humidity (%RH)         0.18\n",
      "Cool Stage 1 (sec)             0.18\n",
      "Current Temp (F)               0.18\n",
      "Humidifier (sec)               0.18\n",
      "Thermostat Temperature (F)     0.18\n",
      "Fan (sec)                      0.18\n",
      "Heat Stage 1 (sec)             0.18\n",
      "Thermostat Humidity (%RH)      0.18\n",
      "Thermostat Motion              0.18\n",
      "Wind Speed (km/h)              0.11\n",
      "Outdoor Temp (F)               0.11\n",
      "dtype: float64\n",
      "\n",
      " Unique Values per Column\n",
      "----------------------------------------\n",
      "Outdoor Temp (F)              907\n",
      "Date                          426\n",
      "Time                          288\n",
      "Current Temp (F)              171\n",
      "Thermostat Temperature (F)    170\n",
      "Cool Set Temp (F)              79\n",
      "Heat Set Temp (F)              68\n",
      "DM Offset                      56\n",
      "Current Humidity (%RH)         45\n",
      "Thermostat Humidity (%RH)      45\n",
      "Humidifier (sec)               21\n",
      "Heat Stage 1 (sec)             21\n",
      "Fan (sec)                      21\n",
      "Cool Stage 1 (sec)             21\n",
      "Calendar Event                  5\n",
      "System Mode                     4\n",
      "Humidity Set Point (%RH)        3\n",
      "System Setting                  2\n",
      "Program Mode                    2\n",
      "Thermostat Motion               2\n",
      "Wind Speed (km/h)               1\n",
      "dtype: int64\n",
      "\n",
      " Preview: First 5 Rows\n",
      "----------------------------------------\n",
      "     Date     Time System Setting        System Mode Calendar Event  \\\n",
      "0  5/1/24  0:00:00           cool  compressorCoolOff            NaN   \n",
      "1  5/1/24  0:05:00           cool  compressorCoolOff            NaN   \n",
      "2  5/1/24  0:10:00           cool  compressorCoolOff            NaN   \n",
      "3  5/1/24  0:15:00           cool  compressorCoolOff            NaN   \n",
      "4  5/1/24  0:20:00           cool  compressorCoolOff            NaN   \n",
      "\n",
      "  Program Mode  Cool Set Temp (F)  Heat Set Temp (F)  Current Temp (F)  \\\n",
      "0        Sleep               74.5               69.5              73.0   \n",
      "1        Sleep               74.5               69.5              73.0   \n",
      "2        Sleep               74.5               69.5              73.0   \n",
      "3        Sleep               74.5               69.5              73.0   \n",
      "4        Sleep               74.5               69.5              72.9   \n",
      "\n",
      "   Humidity Set Point (%RH)  ...  Outdoor Temp (F)  Wind Speed (km/h)  \\\n",
      "0                       0.0  ...              59.9                0.0   \n",
      "1                       0.0  ...              59.9                0.0   \n",
      "2                       0.0  ...              59.9                0.0   \n",
      "3                       0.0  ...              59.9                0.0   \n",
      "4                       0.0  ...              59.9                0.0   \n",
      "\n",
      "   Cool Stage 1 (sec)  Heat Stage 1 (sec)  Fan (sec)  Humidifier (sec)  \\\n",
      "0                 0.0                 0.0      300.0               0.0   \n",
      "1                 0.0                 0.0      255.0               0.0   \n",
      "2                 0.0                 0.0      270.0               0.0   \n",
      "3                 0.0                 0.0      300.0               0.0   \n",
      "4                 0.0                 0.0      255.0               0.0   \n",
      "\n",
      "   DM Offset  Thermostat Temperature (F)  Thermostat Humidity (%RH)  \\\n",
      "0        NaN                        73.0                       57.0   \n",
      "1        NaN                        73.0                       57.0   \n",
      "2        NaN                        73.0                       57.0   \n",
      "3        NaN                        73.0                       57.0   \n",
      "4        NaN                        72.9                       57.0   \n",
      "\n",
      "   Thermostat Motion  \n",
      "0                0.0  \n",
      "1                0.0  \n",
      "2                0.0  \n",
      "3                0.0  \n",
      "4                0.0  \n",
      "\n",
      "[5 rows x 21 columns]\n",
      "\n",
      " Preview: Last 5 Rows\n",
      "----------------------------------------\n",
      "           Date      Time System Setting        System Mode Calendar Event  \\\n",
      "122683  6/30/25  23:35:00           cool  compressorCoolOff           auto   \n",
      "122684  6/30/25  23:40:00           cool  compressorCoolOff           auto   \n",
      "122685  6/30/25  23:45:00           cool  compressorCoolOff           auto   \n",
      "122686  6/30/25  23:50:00           cool  compressorCoolOff           auto   \n",
      "122687  6/30/25  23:55:00           cool  compressorCoolOff           auto   \n",
      "\n",
      "       Program Mode  Cool Set Temp (F)  Heat Set Temp (F)  Current Temp (F)  \\\n",
      "122683        Sleep               75.0               73.0              74.5   \n",
      "122684        Sleep               75.0               73.0              74.6   \n",
      "122685        Sleep               75.0               73.0              74.6   \n",
      "122686        Sleep               75.0               73.0              74.5   \n",
      "122687        Sleep               75.0               73.0              74.6   \n",
      "\n",
      "        Humidity Set Point (%RH)  ...  Outdoor Temp (F)  Wind Speed (km/h)  \\\n",
      "122683                      36.0  ...              75.0                0.0   \n",
      "122684                      36.0  ...              75.0                0.0   \n",
      "122685                      36.0  ...              75.0                0.0   \n",
      "122686                      36.0  ...              75.0                0.0   \n",
      "122687                      36.0  ...              75.0                0.0   \n",
      "\n",
      "        Cool Stage 1 (sec)  Heat Stage 1 (sec)  Fan (sec)  Humidifier (sec)  \\\n",
      "122683                 0.0                 0.0      255.0               0.0   \n",
      "122684                 0.0                 0.0      300.0               0.0   \n",
      "122685                 0.0                 0.0      270.0               0.0   \n",
      "122686                 0.0                 0.0      255.0               0.0   \n",
      "122687                 0.0                 0.0      300.0               0.0   \n",
      "\n",
      "        DM Offset  Thermostat Temperature (F)  Thermostat Humidity (%RH)  \\\n",
      "122683        NaN                        74.5                       61.0   \n",
      "122684        NaN                        74.6                       61.0   \n",
      "122685        NaN                        74.6                       61.0   \n",
      "122686        NaN                        74.5                       61.0   \n",
      "122687        NaN                        74.6                       61.0   \n",
      "\n",
      "        Thermostat Motion  \n",
      "122683                0.0  \n",
      "122684                0.0  \n",
      "122685                0.0  \n",
      "122686                0.0  \n",
      "122687                0.0  \n",
      "\n",
      "[5 rows x 21 columns]\n"
     ]
    }
   ],
   "source": [
    "profile_dataframe_overview(thermostat_df)"
   ]
  },
  {
   "cell_type": "markdown",
   "id": "9e12dc22",
   "metadata": {},
   "source": [
    "### DISPLAY STATS SUMMARY\n",
    "### summary_stats()\n",
    "\n",
    "This function returns standard summary statistics for all numeric columns in the DataFrame:\n",
    "\n",
    "- count, mean, std\n",
    "- min, 25th percentile, median (50%), 75th percentile, max"
   ]
  },
  {
   "cell_type": "code",
   "execution_count": 44,
   "id": "33d1774d",
   "metadata": {},
   "outputs": [
    {
     "name": "stdout",
     "output_type": "stream",
     "text": [
      "\n",
      " Summary Statistics:\n",
      "                               count    mean    std   min    25%    50%  \\\n",
      "Cool Set Temp (F)           122470.0   73.15   2.20  68.0   72.0   73.0   \n",
      "Heat Set Temp (F)           122470.0   70.67   2.18  67.5   69.5   70.2   \n",
      "Current Temp (F)            122470.0   71.45   2.37  62.1   69.7   71.7   \n",
      "Humidity Set Point (%RH)    122470.0   17.95  18.00   0.0    0.0    0.0   \n",
      "Current Humidity (%RH)      122470.0   52.26   7.70  27.0   46.0   54.0   \n",
      "Outdoor Temp (F)            122550.0   56.84  19.19  -3.8   42.8   60.7   \n",
      "Wind Speed (km/h)           122550.0    0.00   0.00   0.0    0.0    0.0   \n",
      "Cool Stage 1 (sec)          122470.0   40.33  98.44   0.0    0.0    0.0   \n",
      "Heat Stage 1 (sec)          122470.0   20.03  65.53   0.0    0.0    0.0   \n",
      "Fan (sec)                   122470.0  278.18  32.59   0.0  255.0  300.0   \n",
      "Humidifier (sec)            122470.0    0.75  13.49   0.0    0.0    0.0   \n",
      "DM Offset                    47534.0    0.15   0.62  -2.6   -0.2    0.2   \n",
      "Thermostat Temperature (F)  122470.0   71.51   2.47  62.1   69.7   71.8   \n",
      "Thermostat Humidity (%RH)   122470.0   52.26   7.70  27.0   46.0   54.0   \n",
      "Thermostat Motion           122470.0    0.17   0.37   0.0    0.0    0.0   \n",
      "\n",
      "                              75%    max  \n",
      "Cool Set Temp (F)            75.0   80.0  \n",
      "Heat Set Temp (F)            72.0   79.0  \n",
      "Current Temp (F)             73.0   79.1  \n",
      "Humidity Set Point (%RH)     36.0   36.0  \n",
      "Current Humidity (%RH)       58.0   73.0  \n",
      "Outdoor Temp (F)             71.5   95.5  \n",
      "Wind Speed (km/h)             0.0    0.0  \n",
      "Cool Stage 1 (sec)            0.0  300.0  \n",
      "Heat Stage 1 (sec)            0.0  300.0  \n",
      "Fan (sec)                   300.0  300.0  \n",
      "Humidifier (sec)              0.0  300.0  \n",
      "DM Offset                     0.5    3.0  \n",
      "Thermostat Temperature (F)   73.2   79.2  \n",
      "Thermostat Humidity (%RH)    58.0   73.0  \n",
      "Thermostat Motion             0.0    1.0  \n"
     ]
    }
   ],
   "source": [
    "summary_statistics = summary_stats(thermostat_df)\n",
    "print(summary_statistics)"
   ]
  },
  {
   "cell_type": "markdown",
   "id": "83a894bc",
   "metadata": {},
   "source": [
    "### check_constant_columns\n",
    "\n",
    "This function identifies columns where all rows have the same value (e.g., a column that always says \"My Ecobee\" or 0 values).\n",
    "\n",
    "Such columns are usually not informative and can be dropped to simplify the dataset."
   ]
  },
  {
   "cell_type": "code",
   "execution_count": 45,
   "id": "954c1da8",
   "metadata": {},
   "outputs": [
    {
     "name": "stdout",
     "output_type": "stream",
     "text": [
      "\n",
      " Constant Columns: ['Wind Speed (km/h)']\n"
     ]
    }
   ],
   "source": [
    "const_columns = check_constant_columns(thermostat_df)\n",
    "#print(\"\\n Constant Columns:\", const_columns)"
   ]
  },
  {
   "cell_type": "markdown",
   "id": "eb1a2faa",
   "metadata": {},
   "source": [
    "### check_empty_columns\n",
    "\n",
    "This function returns a list of columns that are completely empty (i.e., 100% null values).\n",
    "\n",
    "These columns typically be removed unless or populate them later."
   ]
  },
  {
   "cell_type": "code",
   "execution_count": 46,
   "id": "a79aba72",
   "metadata": {},
   "outputs": [
    {
     "name": "stdout",
     "output_type": "stream",
     "text": [
      "\n",
      " Empty Columns: []\n"
     ]
    }
   ],
   "source": [
    "empty_columns = check_empty_columns(thermostat_df)\n",
    "#print(\"\\n Empty Columns:\", empty_columns)"
   ]
  },
  {
   "cell_type": "markdown",
   "id": "e7299c48",
   "metadata": {},
   "source": [
    "### Standardize Column Names\n",
    "\n",
    "Clean up messy column names"
   ]
  },
  {
   "cell_type": "code",
   "execution_count": 49,
   "id": "8ef5880f",
   "metadata": {},
   "outputs": [
    {
     "name": "stdout",
     "output_type": "stream",
     "text": [
      "Index(['date', 'time', 'system_setting', 'system_mode', 'calendar_event',\n",
      "       'program_mode', 'cool_set_temp_f', 'heat_set_temp_f', 'current_temp_f',\n",
      "       'humidity_set_point_rh', 'current_humidity_rh', 'outdoor_temp_f',\n",
      "       'wind_speed_kmh', 'cool_stage_1_sec', 'heat_stage_1_sec', 'fan_sec',\n",
      "       'humidifier_sec', 'dm_offset', 'thermostat_temperature_f',\n",
      "       'thermostat_humidity_rh', 'thermostat_motion', 'timestamp'],\n",
      "      dtype='object')\n"
     ]
    }
   ],
   "source": [
    "thermostat_df.columns = thermostat_df.columns.str.strip().str.lower().str.replace(' ', '_')\n",
    "\n",
    "thermostat_df.rename(columns={\n",
    "    'cool_set_temp_(f)': 'cool_set_temp_f',\n",
    "    'heat_set_temp_(f)': 'heat_set_temp_f',\n",
    "    'current_temp_(f)': 'current_temp_f',\n",
    "    'humidity_set_point_(%rh)': 'humidity_set_point_rh',\n",
    "    'current_humidity_(%rh)': 'current_humidity_rh',\n",
    "    'outdoor_temp_(f)': 'outdoor_temp_f',\n",
    "    'wind_speed_(km/h)': 'wind_speed_kmh',\n",
    "    'cool_stage_1_(sec)': 'cool_stage_1_sec',\n",
    "    'heat_stage_1_(sec)': 'heat_stage_1_sec',\n",
    "    'fan_(sec)': 'fan_sec',\n",
    "    'humidifier_(sec)': 'humidifier_sec',\n",
    "    'thermostat_temperature_(f)': 'thermostat_temperature_f',\n",
    "    'thermostat_humidity_(%rh)': 'thermostat_humidity_rh'\n",
    "}, inplace=True)\n",
    "\n",
    "print(thermostat_df.columns)"
   ]
  },
  {
   "cell_type": "markdown",
   "id": "ebaab0ff",
   "metadata": {},
   "source": [
    "### Convert date and Time to Timestamp Format\n",
    "The thermostat dataset includes separate `date` and `time` columns. For time-based analysis and merging with other data (e.g., weather), it is essential to combine them into a single `timestamp` column and convert it to proper datetime format.\n",
    "\n",
    "The `date` and `time` column is combined and then converted to `datetime` format and renamed as `timestamp` for compatibility with the weather dataset.\n",
    "\n",
    "If datatype is not String, convert `date` and `time` to String using .astype(str)\n",
    "\n",
    "To handle invalid date values, use errors=`coerce` argument, to replace invalid dates to NaT (Not a Time)\n",
    "\n",
    "In order to avoid warning, slow and less consitent parsing, explicitly specify datetime format.\n",
    "\n",
    "format='%Y-%m-%d %H:%M:%S',"
   ]
  },
  {
   "cell_type": "code",
   "execution_count": 55,
   "id": "21a3ad2a",
   "metadata": {},
   "outputs": [
    {
     "name": "stdout",
     "output_type": "stream",
     "text": [
      "Column 'date' and 'time' not found. Skipping 'datetime' conversion.\n",
      "Index(['system_setting', 'system_mode', 'calendar_event', 'program_mode',\n",
      "       'cool_set_temp_f', 'heat_set_temp_f', 'current_temp_f',\n",
      "       'humidity_set_point_rh', 'current_humidity_rh', 'outdoor_temp_f',\n",
      "       'wind_speed_kmh', 'cool_stage_1_sec', 'heat_stage_1_sec', 'fan_sec',\n",
      "       'humidifier_sec', 'dm_offset', 'thermostat_temperature_f',\n",
      "       'thermostat_humidity_rh', 'thermostat_motion', 'timestamp'],\n",
      "      dtype='object')\n"
     ]
    }
   ],
   "source": [
    "# Combine 'date' and 'time' into 'timestamp' only if both columns are present\n",
    "\n",
    "if 'date' in thermostat_df.columns and 'time' in thermostat_df.columns:\n",
    "    thermostat_df['timestamp'] = pd.to_datetime(\n",
    "        thermostat_df['date'] + ' ' + thermostat_df['time'], format='%m/%d/%y %H:%M:%S', errors='coerce'\n",
    "        )\n",
    "    # Drop original 'date' and 'time' columns safely\n",
    "    thermostat_df.drop(columns=['date', 'time'], inplace=True)\n",
    "else:\n",
    "  print(\"Column 'date' and 'time' not found. Skipping 'datetime' conversion.\")\n",
    "\n",
    "print(thermostat_df.columns)"
   ]
  },
  {
   "cell_type": "markdown",
   "id": "21b25d27",
   "metadata": {},
   "source": [
    "### Reorder Columns\n",
    "Rearrange the columns to place `timestamp` as the first column (if needed), followed by the HVAC runtime variables. This improves readability and aligns with the weather dataset."
   ]
  },
  {
   "cell_type": "code",
   "execution_count": 58,
   "id": "deb3b145",
   "metadata": {},
   "outputs": [
    {
     "name": "stdout",
     "output_type": "stream",
     "text": [
      "Index(['timestamp', 'system_setting', 'system_mode', 'calendar_event',\n",
      "       'program_mode', 'cool_set_temp_f', 'heat_set_temp_f', 'current_temp_f',\n",
      "       'humidity_set_point_rh', 'current_humidity_rh', 'outdoor_temp_f',\n",
      "       'wind_speed_kmh', 'cool_stage_1_sec', 'heat_stage_1_sec', 'fan_sec',\n",
      "       'humidifier_sec', 'dm_offset', 'thermostat_temperature_f',\n",
      "       'thermostat_humidity_rh', 'thermostat_motion'],\n",
      "      dtype='object')\n"
     ]
    }
   ],
   "source": [
    "# Reorder columns - timestamp first\n",
    "cols = ['timestamp'] + [col for col in thermostat_df.columns if col != 'timestamp']\n",
    "thermostat_df = thermostat_df[cols]\n",
    "\n",
    "print(thermostat_df.columns)"
   ]
  }
 ],
 "metadata": {
  "kernelspec": {
   "display_name": ".venv",
   "language": "python",
   "name": "python3"
  },
  "language_info": {
   "codemirror_mode": {
    "name": "ipython",
    "version": 3
   },
   "file_extension": ".py",
   "mimetype": "text/x-python",
   "name": "python",
   "nbconvert_exporter": "python",
   "pygments_lexer": "ipython3",
   "version": "3.13.2"
  }
 },
 "nbformat": 4,
 "nbformat_minor": 5
}
