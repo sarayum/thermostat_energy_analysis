{
 "cells": [
  {
   "cell_type": "code",
   "execution_count": 1,
   "id": "c61ddcb5",
   "metadata": {},
   "outputs": [],
   "source": [
    "import pandas as pd\n",
    "import os\n",
    "import sqlite3\n",
    "import sys\n",
    "sys.path.append('../scripts') #Add scripts folder to path\n",
    "\n",
    "from utilities import (\n",
    "    profile_dataframe_overview,\n",
    "    summary_stats,\n",
    "    check_constant_columns,\n",
    "    check_empty_columns\n",
    ")"
   ]
  },
  {
   "cell_type": "markdown",
   "id": "b49d8fd4",
   "metadata": {},
   "source": [
    "### Cleaning the raw weather data previously saved as a CSV for data processing. \n",
    "\n",
    "- Converting the `time` column into a proper `timestamp`\n",
    "- Dropping the original `time` column\n",
    "- Removing duplicate or fully empty rows\n",
    "- Reordering columns for consistency\n",
    "\n",
    "The cleaned weather data is saved in `data/processed/weather_data_cleaned_final.csv` and will be ready for merging with thermostat data."
   ]
  },
  {
   "cell_type": "code",
   "execution_count": 2,
   "id": "584e6928",
   "metadata": {},
   "outputs": [],
   "source": [
    "# Define input/output paths\n",
    "raw_path = \"../data/raw/weather_data_hourly.csv\"\n",
    "processed_dir = \"../data/processed\"\n",
    "os.makedirs(processed_dir, exist_ok=True)\n",
    "cleaned_path = os.path.join(processed_dir, \"weather_data_cleaned_final.csv\")\n"
   ]
  },
  {
   "cell_type": "code",
   "execution_count": null,
   "id": "294d7459",
   "metadata": {},
   "outputs": [],
   "source": [
    "# Load raw weather data . This dataset contains external weather parameters such as temperature, humidity, and wind speed at hourly intervals.\n",
    "\n",
    "weather_df_cleaned = pd.read_csv(raw_path)\n",
    "# print(\"Current Working Directory:\", os.getcwd())\n"
   ]
  },
  {
   "cell_type": "markdown",
   "id": "e556da48",
   "metadata": {},
   "source": [
    "### BASIC OVERVIEW\n",
    "### profile_dataframe_overview() \n",
    "This function provides a structured overview of any DataFrame. It displays:\n",
    "\n",
    "- The number of rows and columns\n",
    "- Column names and data types\n",
    "- DataFrame info summary (including memory usage)\n",
    "- Missing values per column (as percentages)\n",
    "- Unique values per column\n",
    "- Sample preview of the first and last N rows"
   ]
  },
  {
   "cell_type": "code",
   "execution_count": 6,
   "id": "07dfe093",
   "metadata": {},
   "outputs": [
    {
     "name": "stdout",
     "output_type": "stream",
     "text": [
      "\n",
      " Basic Structure\n",
      "----------------------------------------\n",
      "Rows: 10224, Columns: 4\n",
      "Column Names: ['time', 'temperature_2m', 'relative_humidity_2m', 'windspeed_10m']\n",
      "\n",
      " Data Types\n",
      "----------------------------------------\n",
      "time                     object\n",
      "temperature_2m          float64\n",
      "relative_humidity_2m      int64\n",
      "windspeed_10m           float64\n",
      "dtype: object\n",
      "\n",
      " DataFrame Summary Info\n",
      "----------------------------------------\n",
      "<class 'pandas.core.frame.DataFrame'>\n",
      "RangeIndex: 10224 entries, 0 to 10223\n",
      "Data columns (total 4 columns):\n",
      " #   Column                Non-Null Count  Dtype  \n",
      "---  ------                --------------  -----  \n",
      " 0   time                  10224 non-null  object \n",
      " 1   temperature_2m        10224 non-null  float64\n",
      " 2   relative_humidity_2m  10224 non-null  int64  \n",
      " 3   windspeed_10m         10224 non-null  float64\n",
      "dtypes: float64(2), int64(1), object(1)\n",
      "memory usage: 319.6+ KB\n",
      "\n",
      " Missing Data Overview (%)\n",
      "----------------------------------------\n",
      "No missing values.\n",
      "\n",
      " Unique Values per Column\n",
      "----------------------------------------\n",
      "time                    10224\n",
      "temperature_2m            530\n",
      "windspeed_10m             326\n",
      "relative_humidity_2m       82\n",
      "dtype: int64\n",
      "\n",
      " Preview: First 5 Rows\n",
      "----------------------------------------\n",
      "               time  temperature_2m  relative_humidity_2m  windspeed_10m\n",
      "0  2024-05-01T00:00            14.7                    75            6.1\n",
      "1  2024-05-01T01:00            13.5                    80            5.5\n",
      "2  2024-05-01T02:00            12.8                    83            4.8\n",
      "3  2024-05-01T03:00            12.3                    86            7.4\n",
      "4  2024-05-01T04:00            12.3                    88            9.3\n",
      "\n",
      " Preview: Last 5 Rows\n",
      "----------------------------------------\n",
      "                   time  temperature_2m  relative_humidity_2m  windspeed_10m\n",
      "10219  2025-06-30T19:00            26.9                    78           11.9\n",
      "10220  2025-06-30T20:00            26.4                    82            7.2\n",
      "10221  2025-06-30T21:00            25.1                    91            4.5\n",
      "10222  2025-06-30T22:00            24.8                    90            5.9\n",
      "10223  2025-06-30T23:00            24.3                    92            5.9\n"
     ]
    }
   ],
   "source": [
    "profile_dataframe_overview(weather_df_cleaned)"
   ]
  },
  {
   "cell_type": "markdown",
   "id": "f59512c3",
   "metadata": {},
   "source": [
    "###  DISPLAY STATS SUMMARY\n",
    "###  summary_stats()\n",
    "\n",
    "This function returns standard summary statistics for all numeric columns in the DataFrame:\n",
    "\n",
    "- count, mean, std\n",
    "- min, 25th percentile, median (50%), 75th percentile, max\n"
   ]
  },
  {
   "cell_type": "code",
   "execution_count": 7,
   "id": "61e1dac5",
   "metadata": {},
   "outputs": [
    {
     "name": "stdout",
     "output_type": "stream",
     "text": [
      "\n",
      " Summary Statistics:\n",
      "                        count   mean    std   min   25%   50%   75%    max\n",
      "temperature_2m        10224.0  13.99  10.65 -20.3   6.4  16.3  22.1   35.6\n",
      "relative_humidity_2m  10224.0  70.88  17.32  19.0  58.0  72.0  85.0  100.0\n",
      "windspeed_10m         10224.0  11.09   5.66   0.0   7.1  10.1  14.4   55.7\n"
     ]
    }
   ],
   "source": [
    "summary_statistics = summary_stats(weather_df_cleaned)\n",
    "print(summary_statistics)"
   ]
  },
  {
   "cell_type": "markdown",
   "id": "87bb0dcb",
   "metadata": {},
   "source": [
    "### check_constant_columns\n",
    "\n",
    "This function identifies columns where all rows have the same value (e.g., a column that always says \"My Ecobee\" or 0 values).\n",
    "\n",
    "Such columns are usually not informative and can be dropped to simplify the dataset."
   ]
  },
  {
   "cell_type": "code",
   "execution_count": 9,
   "id": "3daf6e75",
   "metadata": {},
   "outputs": [
    {
     "name": "stdout",
     "output_type": "stream",
     "text": [
      "\n",
      " Constant Columns: []\n"
     ]
    }
   ],
   "source": [
    "const_columns = check_constant_columns(weather_df_cleaned)"
   ]
  },
  {
   "cell_type": "markdown",
   "id": "9984598d",
   "metadata": {},
   "source": [
    "### check_empty_columns\n",
    "\n",
    "This function returns a list of columns that are completely empty (i.e., 100% null values).\n",
    "\n",
    "These columns typically be removed unless or populate them later."
   ]
  },
  {
   "cell_type": "code",
   "execution_count": 11,
   "id": "a1b7182b",
   "metadata": {},
   "outputs": [
    {
     "name": "stdout",
     "output_type": "stream",
     "text": [
      "\n",
      " Empty Columns: []\n"
     ]
    }
   ],
   "source": [
    "empty_columns = check_empty_columns(weather_df_cleaned)"
   ]
  },
  {
   "cell_type": "code",
   "execution_count": 13,
   "id": "e2fd08c1",
   "metadata": {},
   "outputs": [
    {
     "name": "stdout",
     "output_type": "stream",
     "text": [
      "Duplicate rows: 0\n"
     ]
    }
   ],
   "source": [
    "# Drop duplicates\n",
    "# weather_df_cleaned.drop_duplicates(inplace=True)\n",
    "\n",
    "print(\"Duplicate rows:\", weather_df_cleaned.duplicated().sum())"
   ]
  },
  {
   "cell_type": "markdown",
   "id": "fbd26287",
   "metadata": {},
   "source": [
    "### Rename Columns for Consistency\n",
    "\n",
    "To maintain consistency and ease of merging with the thermostat dataset later, renamed the columns using more descriptive and uniform names:\n",
    "\n",
    "- `time` → `timestamp`\n",
    "- `temperature_2m` → `outdoor_temp_c` \n",
    "- `relative_humidity_2m` → `outdoor_humidity`\n",
    "- `windspeed_10m` → `wind_speed_kmh`\n"
   ]
  },
  {
   "cell_type": "code",
   "execution_count": 14,
   "id": "fa699df7",
   "metadata": {},
   "outputs": [
    {
     "name": "stdout",
     "output_type": "stream",
     "text": [
      "['timestamp', 'outdoor_temp_c', 'outdoor_humidity', 'wind_speed_kmh']\n"
     ]
    }
   ],
   "source": [
    "# Rename columns for consistency and clarity\n",
    "weather_df_cleaned.rename(columns={\n",
    "    'time': 'timestamp',\n",
    "    'temperature_2m': 'outdoor_temp_c',  # temp in °C temporarily\n",
    "    'relative_humidity_2m': 'outdoor_humidity',\n",
    "    'windspeed_10m': 'wind_speed_kmh'\n",
    "}, inplace=True)\n",
    "\n",
    "column_names = weather_df_cleaned.columns.tolist()\n",
    "print(column_names)"
   ]
  },
  {
   "cell_type": "markdown",
   "id": "ba0c8a1d",
   "metadata": {},
   "source": [
    "### Convert Time to Timestamp Format\n",
    "The `time` column is converted to `datetime` format and renamed as `timestamp` for compatibility with the thermostat dataset."
   ]
  },
  {
   "cell_type": "code",
   "execution_count": 15,
   "id": "d60a52fa",
   "metadata": {},
   "outputs": [
    {
     "name": "stdout",
     "output_type": "stream",
     "text": [
      "0       2024-05-01 00:00:00\n",
      "1       2024-05-01 01:00:00\n",
      "2       2024-05-01 02:00:00\n",
      "3       2024-05-01 03:00:00\n",
      "4       2024-05-01 04:00:00\n",
      "                ...        \n",
      "10219   2025-06-30 19:00:00\n",
      "10220   2025-06-30 20:00:00\n",
      "10221   2025-06-30 21:00:00\n",
      "10222   2025-06-30 22:00:00\n",
      "10223   2025-06-30 23:00:00\n",
      "Name: timestamp, Length: 10224, dtype: datetime64[ns]\n"
     ]
    }
   ],
   "source": [
    "# Convert 'time' to timestamp\n",
    "\n",
    "weather_df_cleaned['timestamp'] = pd.to_datetime(weather_df_cleaned['timestamp'])\n",
    "print(weather_df_cleaned['timestamp'])"
   ]
  },
  {
   "cell_type": "markdown",
   "id": "0b6f3000",
   "metadata": {},
   "source": [
    "### Convert Temperature from Celsius to Fahrenheit\n",
    "Since the thermostat dataset reports temperatures in Fahrenheit, convert the `outdoor_temp_c` column from Celsius to Fahrenheit and rename to `outdoor_temp_f`. Then drop the `outdoor_temp_c`."
   ]
  },
  {
   "cell_type": "code",
   "execution_count": 19,
   "id": "353b8ae8",
   "metadata": {},
   "outputs": [
    {
     "name": "stdout",
     "output_type": "stream",
     "text": [
      "Column 'outdoor_temp_c' not found. Skipping temperature conversion.\n",
      "                timestamp  outdoor_humidity  wind_speed_kmh  outdoor_temp_f\n",
      "0     2024-05-01 00:00:00                75             6.1           58.46\n",
      "1     2024-05-01 01:00:00                80             5.5           56.30\n",
      "2     2024-05-01 02:00:00                83             4.8           55.04\n",
      "3     2024-05-01 03:00:00                86             7.4           54.14\n",
      "4     2024-05-01 04:00:00                88             9.3           54.14\n",
      "...                   ...               ...             ...             ...\n",
      "10219 2025-06-30 19:00:00                78            11.9           80.42\n",
      "10220 2025-06-30 20:00:00                82             7.2           79.52\n",
      "10221 2025-06-30 21:00:00                91             4.5           77.18\n",
      "10222 2025-06-30 22:00:00                90             5.9           76.64\n",
      "10223 2025-06-30 23:00:00                92             5.9           75.74\n",
      "\n",
      "[10224 rows x 4 columns]\n"
     ]
    }
   ],
   "source": [
    "#weather_df_cleaned['outdoor_temp_f'] = (weather_df_cleaned['outdoor_temp_c'] * 9/5) + 32\n",
    "#column_names = weather_df_cleaned.columns.tolist()\n",
    "#print(column_names)\n",
    "\n",
    "#weather_df_cleaned.drop(columns=['outdoor_temp_c'], inplace=True)\n",
    "#print(column_names)\n",
    "\n",
    "if 'outdoor_temp_c' in weather_df_cleaned.columns:\n",
    "    weather_df_cleaned['outdoor_temp_f'] = (weather_df_cleaned['outdoor_temp_c'] * 9/5) + 32\n",
    "    weather_df_cleaned['outdoor_temp_f'] = weather_df_cleaned['outdoor_temp_f'].round(2)\n",
    "    weather_df_cleaned.drop(columns=['outdoor_temp_c'], inplace=True)\n",
    "else:\n",
    "    print(\"Column 'outdoor_temp_c' not found. Skipping temperature conversion.\")\n",
    "\n",
    "print(weather_df_cleaned)"
   ]
  },
  {
   "cell_type": "markdown",
   "id": "8225c9fa",
   "metadata": {},
   "source": [
    "### Reorder Columns\n",
    "Rearrange the columns to place `timestamp` as the first column (if needed), followed by the weather variables. This improves readability and aligns with the thermostat dataset."
   ]
  },
  {
   "cell_type": "code",
   "execution_count": 20,
   "id": "e16ed3b8",
   "metadata": {},
   "outputs": [
    {
     "name": "stdout",
     "output_type": "stream",
     "text": [
      "Index(['timestamp', 'outdoor_humidity', 'wind_speed_kmh', 'outdoor_temp_f'], dtype='object')\n"
     ]
    }
   ],
   "source": [
    "# Reorder columns - timestamp first\n",
    "cols = ['timestamp'] + [col for col in weather_df_cleaned.columns if col != 'timestamp']\n",
    "weather_df_cleaned = weather_df_cleaned[cols]\n",
    "\n",
    "print(weather_df_cleaned.columns)"
   ]
  },
  {
   "cell_type": "code",
   "execution_count": 21,
   "id": "8b91ac60",
   "metadata": {},
   "outputs": [],
   "source": [
    "# reset index\n",
    "weather_df_cleaned.reset_index(drop=True, inplace=True)"
   ]
  },
  {
   "cell_type": "code",
   "execution_count": 22,
   "id": "60c6ff3f",
   "metadata": {},
   "outputs": [
    {
     "name": "stdout",
     "output_type": "stream",
     "text": [
      " Cleaned weather data saved to: ../data/processed/weather_data_cleaned_final.csv\n"
     ]
    }
   ],
   "source": [
    "# Save cleaned version\n",
    "weather_df_cleaned.to_csv(cleaned_path, index=False, float_format=\"%.2f\")\n",
    "print(f\" Cleaned weather data saved to: {cleaned_path}\")"
   ]
  }
 ],
 "metadata": {
  "kernelspec": {
   "display_name": ".venv",
   "language": "python",
   "name": "python3"
  },
  "language_info": {
   "codemirror_mode": {
    "name": "ipython",
    "version": 3
   },
   "file_extension": ".py",
   "mimetype": "text/x-python",
   "name": "python",
   "nbconvert_exporter": "python",
   "pygments_lexer": "ipython3",
   "version": "3.13.2"
  }
 },
 "nbformat": 4,
 "nbformat_minor": 5
}
